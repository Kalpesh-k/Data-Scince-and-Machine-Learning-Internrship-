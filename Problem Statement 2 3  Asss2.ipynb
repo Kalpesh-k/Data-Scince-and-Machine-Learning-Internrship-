{
 "cells": [
  {
   "cell_type": "markdown",
   "id": "d5feaac1",
   "metadata": {},
   "source": [
    "#  Write a Python program to perform the following tasks-1.Create a pandas series from the below dictionary where indices are subjects:"
   ]
  },
  {
   "cell_type": "code",
   "execution_count": 1,
   "id": "59bdae90",
   "metadata": {},
   "outputs": [],
   "source": [
    "import pandas as pd \n",
    "import numpy as np \n",
    "import matplotlib.pyplot as plt "
   ]
  },
  {
   "cell_type": "code",
   "execution_count": 2,
   "id": "aea27557",
   "metadata": {},
   "outputs": [],
   "source": [
    "Sub = {'English':{'Sam':60,'Jackson':74,'Ahree':85}, \n",
    "      'History':{'Gloria':83,'Sam':65,'Isla':78,'Aron':72,'Gray':61},\n",
    "       'Geography':{'Jackson':92,'Gloria':95,'Isla':82,'Aron':75,'Ahree':76},\n",
    "       'Mathematics':{'Sam':99,'Gloria':74,'Jackson':89,'Ahree':85,'Gray':95},\n",
    "      'Science':{'Sam':89,'Aron':82,'Gray':78,'Isla':93,'Ahree':87}}"
   ]
  },
  {
   "cell_type": "code",
   "execution_count": 3,
   "id": "fc0d443a",
   "metadata": {},
   "outputs": [
    {
     "name": "stdout",
     "output_type": "stream",
     "text": [
      "English                  {'Sam': 60, 'Jackson': 74, 'Ahree': 85}\n",
      "History        {'Gloria': 83, 'Sam': 65, 'Isla': 78, 'Aron': ...\n",
      "Geography      {'Jackson': 92, 'Gloria': 95, 'Isla': 82, 'Aro...\n",
      "Mathematics    {'Sam': 99, 'Gloria': 74, 'Jackson': 89, 'Ahre...\n",
      "Science        {'Sam': 89, 'Aron': 82, 'Gray': 78, 'Isla': 93...\n",
      "dtype: object\n",
      "         English  History  Geography  Mathematics  Science\n",
      "Sam         60.0     65.0        NaN         99.0     89.0\n",
      "Jackson     74.0      NaN       92.0         89.0      NaN\n",
      "Ahree       85.0      NaN       76.0         85.0     87.0\n",
      "Gloria       NaN     83.0       95.0         74.0      NaN\n",
      "Isla         NaN     78.0       82.0          NaN     93.0\n",
      "Aron         NaN     72.0       75.0          NaN     82.0\n",
      "Gray         NaN     61.0        NaN         95.0     78.0\n"
     ]
    }
   ],
   "source": [
    "# Converting Series into Data Frame \n",
    "\n",
    "Sub_series = pd.Series(Sub)\n",
    "print(Sub_series)\n",
    "df = pd.DataFrame(Sub)\n",
    "print(df)"
   ]
  },
  {
   "cell_type": "code",
   "execution_count": 4,
   "id": "fce7f5f1",
   "metadata": {},
   "outputs": [
    {
     "name": "stdout",
     "output_type": "stream",
     "text": [
      "         English  History  Geography  Mathematics  Science\n",
      "Sam         60.0     65.0        0.0         99.0     89.0\n",
      "Jackson     74.0      0.0       92.0         89.0      0.0\n",
      "Ahree       85.0      0.0       76.0         85.0     87.0\n",
      "Gloria       0.0     83.0       95.0         74.0      0.0\n",
      "Isla         0.0     78.0       82.0          0.0     93.0\n",
      "Aron         0.0     72.0       75.0          0.0     82.0\n",
      "Gray         0.0     61.0        0.0         95.0     78.0\n"
     ]
    }
   ],
   "source": [
    "# Converting Null values to Zeros \n",
    "\n",
    "df.fillna(value = 0,\n",
    "          inplace = True)\n",
    " \n",
    "# Show the DataFrame\n",
    "print(df)\n"
   ]
  },
  {
   "cell_type": "code",
   "execution_count": 5,
   "id": "6f9338f2",
   "metadata": {},
   "outputs": [
    {
     "data": {
      "text/html": [
       "<div>\n",
       "<style scoped>\n",
       "    .dataframe tbody tr th:only-of-type {\n",
       "        vertical-align: middle;\n",
       "    }\n",
       "\n",
       "    .dataframe tbody tr th {\n",
       "        vertical-align: top;\n",
       "    }\n",
       "\n",
       "    .dataframe thead th {\n",
       "        text-align: right;\n",
       "    }\n",
       "</style>\n",
       "<table border=\"1\" class=\"dataframe\">\n",
       "  <thead>\n",
       "    <tr style=\"text-align: right;\">\n",
       "      <th></th>\n",
       "      <th>Sam</th>\n",
       "      <th>Jackson</th>\n",
       "      <th>Ahree</th>\n",
       "      <th>Gloria</th>\n",
       "      <th>Isla</th>\n",
       "      <th>Aron</th>\n",
       "      <th>Gray</th>\n",
       "    </tr>\n",
       "  </thead>\n",
       "  <tbody>\n",
       "    <tr>\n",
       "      <th>English</th>\n",
       "      <td>60.0</td>\n",
       "      <td>74.0</td>\n",
       "      <td>85.0</td>\n",
       "      <td>0.0</td>\n",
       "      <td>0.0</td>\n",
       "      <td>0.0</td>\n",
       "      <td>0.0</td>\n",
       "    </tr>\n",
       "    <tr>\n",
       "      <th>History</th>\n",
       "      <td>65.0</td>\n",
       "      <td>0.0</td>\n",
       "      <td>0.0</td>\n",
       "      <td>83.0</td>\n",
       "      <td>78.0</td>\n",
       "      <td>72.0</td>\n",
       "      <td>61.0</td>\n",
       "    </tr>\n",
       "    <tr>\n",
       "      <th>Geography</th>\n",
       "      <td>0.0</td>\n",
       "      <td>92.0</td>\n",
       "      <td>76.0</td>\n",
       "      <td>95.0</td>\n",
       "      <td>82.0</td>\n",
       "      <td>75.0</td>\n",
       "      <td>0.0</td>\n",
       "    </tr>\n",
       "    <tr>\n",
       "      <th>Mathematics</th>\n",
       "      <td>99.0</td>\n",
       "      <td>89.0</td>\n",
       "      <td>85.0</td>\n",
       "      <td>74.0</td>\n",
       "      <td>0.0</td>\n",
       "      <td>0.0</td>\n",
       "      <td>95.0</td>\n",
       "    </tr>\n",
       "    <tr>\n",
       "      <th>Science</th>\n",
       "      <td>89.0</td>\n",
       "      <td>0.0</td>\n",
       "      <td>87.0</td>\n",
       "      <td>0.0</td>\n",
       "      <td>93.0</td>\n",
       "      <td>82.0</td>\n",
       "      <td>78.0</td>\n",
       "    </tr>\n",
       "  </tbody>\n",
       "</table>\n",
       "</div>"
      ],
      "text/plain": [
       "              Sam  Jackson  Ahree  Gloria  Isla  Aron  Gray\n",
       "English      60.0     74.0   85.0     0.0   0.0   0.0   0.0\n",
       "History      65.0      0.0    0.0    83.0  78.0  72.0  61.0\n",
       "Geography     0.0     92.0   76.0    95.0  82.0  75.0   0.0\n",
       "Mathematics  99.0     89.0   85.0    74.0   0.0   0.0  95.0\n",
       "Science      89.0      0.0   87.0     0.0  93.0  82.0  78.0"
      ]
     },
     "execution_count": 5,
     "metadata": {},
     "output_type": "execute_result"
    }
   ],
   "source": [
    "# Transposing the Data Frame \n",
    "\n",
    "df.transpose()"
   ]
  },
  {
   "cell_type": "code",
   "execution_count": 6,
   "id": "eea6774a",
   "metadata": {},
   "outputs": [
    {
     "name": "stdout",
     "output_type": "stream",
     "text": [
      "Sam        62.6\n",
      "Jackson    51.0\n",
      "Ahree      66.6\n",
      "Gloria     50.4\n",
      "Isla       50.6\n",
      "Aron       45.8\n",
      "Gray       46.8\n",
      "dtype: float64\n"
     ]
    }
   ],
   "source": [
    "# Creating new Column Average \n",
    "\n",
    "new = df['Average'] = df.mean(axis=1)\n",
    "print(new )"
   ]
  },
  {
   "cell_type": "code",
   "execution_count": 7,
   "id": "0cdbb7f3",
   "metadata": {},
   "outputs": [
    {
     "data": {
      "text/html": [
       "<div>\n",
       "<style scoped>\n",
       "    .dataframe tbody tr th:only-of-type {\n",
       "        vertical-align: middle;\n",
       "    }\n",
       "\n",
       "    .dataframe tbody tr th {\n",
       "        vertical-align: top;\n",
       "    }\n",
       "\n",
       "    .dataframe thead th {\n",
       "        text-align: right;\n",
       "    }\n",
       "</style>\n",
       "<table border=\"1\" class=\"dataframe\">\n",
       "  <thead>\n",
       "    <tr style=\"text-align: right;\">\n",
       "      <th></th>\n",
       "      <th>English</th>\n",
       "      <th>History</th>\n",
       "      <th>Geography</th>\n",
       "      <th>Mathematics</th>\n",
       "      <th>Science</th>\n",
       "      <th>Average</th>\n",
       "    </tr>\n",
       "  </thead>\n",
       "  <tbody>\n",
       "    <tr>\n",
       "      <th>count</th>\n",
       "      <td>7.000000</td>\n",
       "      <td>7.000000</td>\n",
       "      <td>7.000000</td>\n",
       "      <td>7.000000</td>\n",
       "      <td>7.000000</td>\n",
       "      <td>7.00000</td>\n",
       "    </tr>\n",
       "    <tr>\n",
       "      <th>mean</th>\n",
       "      <td>31.285714</td>\n",
       "      <td>51.285714</td>\n",
       "      <td>60.000000</td>\n",
       "      <td>63.142857</td>\n",
       "      <td>61.285714</td>\n",
       "      <td>53.40000</td>\n",
       "    </tr>\n",
       "    <tr>\n",
       "      <th>std</th>\n",
       "      <td>39.685070</td>\n",
       "      <td>35.803698</td>\n",
       "      <td>41.661333</td>\n",
       "      <td>43.853653</td>\n",
       "      <td>42.141485</td>\n",
       "      <td>7.98749</td>\n",
       "    </tr>\n",
       "    <tr>\n",
       "      <th>min</th>\n",
       "      <td>0.000000</td>\n",
       "      <td>0.000000</td>\n",
       "      <td>0.000000</td>\n",
       "      <td>0.000000</td>\n",
       "      <td>0.000000</td>\n",
       "      <td>45.80000</td>\n",
       "    </tr>\n",
       "    <tr>\n",
       "      <th>25%</th>\n",
       "      <td>0.000000</td>\n",
       "      <td>30.500000</td>\n",
       "      <td>37.500000</td>\n",
       "      <td>37.000000</td>\n",
       "      <td>39.000000</td>\n",
       "      <td>48.60000</td>\n",
       "    </tr>\n",
       "    <tr>\n",
       "      <th>50%</th>\n",
       "      <td>0.000000</td>\n",
       "      <td>65.000000</td>\n",
       "      <td>76.000000</td>\n",
       "      <td>85.000000</td>\n",
       "      <td>82.000000</td>\n",
       "      <td>50.60000</td>\n",
       "    </tr>\n",
       "    <tr>\n",
       "      <th>75%</th>\n",
       "      <td>67.000000</td>\n",
       "      <td>75.000000</td>\n",
       "      <td>87.000000</td>\n",
       "      <td>92.000000</td>\n",
       "      <td>88.000000</td>\n",
       "      <td>56.80000</td>\n",
       "    </tr>\n",
       "    <tr>\n",
       "      <th>max</th>\n",
       "      <td>85.000000</td>\n",
       "      <td>83.000000</td>\n",
       "      <td>95.000000</td>\n",
       "      <td>99.000000</td>\n",
       "      <td>93.000000</td>\n",
       "      <td>66.60000</td>\n",
       "    </tr>\n",
       "  </tbody>\n",
       "</table>\n",
       "</div>"
      ],
      "text/plain": [
       "         English    History  Geography  Mathematics    Science   Average\n",
       "count   7.000000   7.000000   7.000000     7.000000   7.000000   7.00000\n",
       "mean   31.285714  51.285714  60.000000    63.142857  61.285714  53.40000\n",
       "std    39.685070  35.803698  41.661333    43.853653  42.141485   7.98749\n",
       "min     0.000000   0.000000   0.000000     0.000000   0.000000  45.80000\n",
       "25%     0.000000  30.500000  37.500000    37.000000  39.000000  48.60000\n",
       "50%     0.000000  65.000000  76.000000    85.000000  82.000000  50.60000\n",
       "75%    67.000000  75.000000  87.000000    92.000000  88.000000  56.80000\n",
       "max    85.000000  83.000000  95.000000    99.000000  93.000000  66.60000"
      ]
     },
     "execution_count": 7,
     "metadata": {},
     "output_type": "execute_result"
    }
   ],
   "source": [
    "# showing the Contents\n",
    "\n",
    "df.describe()"
   ]
  },
  {
   "cell_type": "code",
   "execution_count": 8,
   "id": "4e02a39d",
   "metadata": {},
   "outputs": [
    {
     "name": "stdout",
     "output_type": "stream",
     "text": [
      "         English  History  Geography  Mathematics  Science  Average\n",
      "Sam         60.0     65.0        0.0         99.0     89.0     62.6\n",
      "Jackson     74.0      0.0       92.0         89.0      0.0     51.0\n",
      "Ahree       85.0      0.0       76.0         85.0     87.0     66.6\n",
      "Gloria       0.0     83.0       95.0         74.0      0.0     50.4\n",
      "Isla         0.0     78.0       82.0          0.0     93.0     50.6\n",
      "Aron         0.0     72.0       75.0          0.0     82.0     45.8\n",
      "Gray         0.0     61.0        0.0         95.0     78.0     46.8\n"
     ]
    }
   ],
   "source": [
    "# Final Result \n",
    "print(df)"
   ]
  },
  {
   "cell_type": "code",
   "execution_count": null,
   "id": "a17b81d7",
   "metadata": {},
   "outputs": [],
   "source": []
  },
  {
   "cell_type": "markdown",
   "id": "fb239aa9",
   "metadata": {},
   "source": [
    " # Write a Python program to create a series from 1 to 1000 and select only numbers divisible by 7 and 17."
   ]
  },
  {
   "cell_type": "code",
   "execution_count": 9,
   "id": "0eeeb1c4",
   "metadata": {},
   "outputs": [],
   "source": [
    "# import pandas and numpy\n",
    "import pandas as pd\n",
    "import numpy as np"
   ]
  },
  {
   "cell_type": "code",
   "execution_count": 10,
   "id": "aabe9bb0",
   "metadata": {},
   "outputs": [
    {
     "name": "stdout",
     "output_type": "stream",
     "text": [
      "0         1\n",
      "1         2\n",
      "2         3\n",
      "3         4\n",
      "4         5\n",
      "       ... \n",
      "995     996\n",
      "996     997\n",
      "997     998\n",
      "998     999\n",
      "999    1000\n",
      "Length: 1000, dtype: int32\n"
     ]
    }
   ],
   "source": [
    "a=np.arange(1,1001)\n",
    "ser = pd.Series(a)\n",
    "print(ser)"
   ]
  },
  {
   "cell_type": "code",
   "execution_count": 11,
   "id": "7fd00f60",
   "metadata": {},
   "outputs": [
    {
     "name": "stdout",
     "output_type": "stream",
     "text": [
      "119\n",
      "238\n",
      "357\n",
      "476\n",
      "595\n",
      "714\n",
      "833\n",
      "952\n"
     ]
    }
   ],
   "source": [
    "for num in ser:\n",
    "    if(num%7==0 and num%17==0):\n",
    "        print(num)"
   ]
  }
 ],
 "metadata": {
  "kernelspec": {
   "display_name": "Python 3 (ipykernel)",
   "language": "python",
   "name": "python3"
  },
  "language_info": {
   "codemirror_mode": {
    "name": "ipython",
    "version": 3
   },
   "file_extension": ".py",
   "mimetype": "text/x-python",
   "name": "python",
   "nbconvert_exporter": "python",
   "pygments_lexer": "ipython3",
   "version": "3.9.12"
  }
 },
 "nbformat": 4,
 "nbformat_minor": 5
}
