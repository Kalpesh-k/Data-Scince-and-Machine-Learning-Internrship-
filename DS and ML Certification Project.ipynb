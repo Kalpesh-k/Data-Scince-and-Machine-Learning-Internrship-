{
 "cells": [
  {
   "cell_type": "code",
   "execution_count": 2,
   "id": "3a60377a",
   "metadata": {},
   "outputs": [],
   "source": [
    "import numpy as np \n",
    "import pandas as pd\n",
    "import matplotlib.pyplot as plt\n",
    "import seaborn as sns"
   ]
  },
  {
   "cell_type": "code",
   "execution_count": 3,
   "id": "bddeeb35",
   "metadata": {},
   "outputs": [],
   "source": [
    "rating_df = pd.read_csv(\"C:/Users/Kalpesh__K__/Datasets/ratings.csv\")"
   ]
  },
  {
   "cell_type": "code",
   "execution_count": 4,
   "id": "10d1cc9d",
   "metadata": {
    "scrolled": false
   },
   "outputs": [
    {
     "data": {
      "text/html": [
       "<div>\n",
       "<style scoped>\n",
       "    .dataframe tbody tr th:only-of-type {\n",
       "        vertical-align: middle;\n",
       "    }\n",
       "\n",
       "    .dataframe tbody tr th {\n",
       "        vertical-align: top;\n",
       "    }\n",
       "\n",
       "    .dataframe thead th {\n",
       "        text-align: right;\n",
       "    }\n",
       "</style>\n",
       "<table border=\"1\" class=\"dataframe\">\n",
       "  <thead>\n",
       "    <tr style=\"text-align: right;\">\n",
       "      <th></th>\n",
       "      <th>userId</th>\n",
       "      <th>movieId</th>\n",
       "      <th>rating</th>\n",
       "      <th>timestamp</th>\n",
       "    </tr>\n",
       "  </thead>\n",
       "  <tbody>\n",
       "    <tr>\n",
       "      <th>0</th>\n",
       "      <td>1</td>\n",
       "      <td>16</td>\n",
       "      <td>4.0</td>\n",
       "      <td>1217897793</td>\n",
       "    </tr>\n",
       "    <tr>\n",
       "      <th>1</th>\n",
       "      <td>1</td>\n",
       "      <td>24</td>\n",
       "      <td>1.5</td>\n",
       "      <td>1217895807</td>\n",
       "    </tr>\n",
       "    <tr>\n",
       "      <th>2</th>\n",
       "      <td>1</td>\n",
       "      <td>32</td>\n",
       "      <td>4.0</td>\n",
       "      <td>1217896246</td>\n",
       "    </tr>\n",
       "    <tr>\n",
       "      <th>3</th>\n",
       "      <td>1</td>\n",
       "      <td>47</td>\n",
       "      <td>4.0</td>\n",
       "      <td>1217896556</td>\n",
       "    </tr>\n",
       "    <tr>\n",
       "      <th>4</th>\n",
       "      <td>1</td>\n",
       "      <td>50</td>\n",
       "      <td>4.0</td>\n",
       "      <td>1217896523</td>\n",
       "    </tr>\n",
       "    <tr>\n",
       "      <th>5</th>\n",
       "      <td>1</td>\n",
       "      <td>110</td>\n",
       "      <td>4.0</td>\n",
       "      <td>1217896150</td>\n",
       "    </tr>\n",
       "    <tr>\n",
       "      <th>6</th>\n",
       "      <td>1</td>\n",
       "      <td>150</td>\n",
       "      <td>3.0</td>\n",
       "      <td>1217895940</td>\n",
       "    </tr>\n",
       "    <tr>\n",
       "      <th>7</th>\n",
       "      <td>1</td>\n",
       "      <td>161</td>\n",
       "      <td>4.0</td>\n",
       "      <td>1217897864</td>\n",
       "    </tr>\n",
       "    <tr>\n",
       "      <th>8</th>\n",
       "      <td>1</td>\n",
       "      <td>165</td>\n",
       "      <td>3.0</td>\n",
       "      <td>1217897135</td>\n",
       "    </tr>\n",
       "    <tr>\n",
       "      <th>9</th>\n",
       "      <td>1</td>\n",
       "      <td>204</td>\n",
       "      <td>0.5</td>\n",
       "      <td>1217895786</td>\n",
       "    </tr>\n",
       "  </tbody>\n",
       "</table>\n",
       "</div>"
      ],
      "text/plain": [
       "   userId  movieId  rating   timestamp\n",
       "0       1       16     4.0  1217897793\n",
       "1       1       24     1.5  1217895807\n",
       "2       1       32     4.0  1217896246\n",
       "3       1       47     4.0  1217896556\n",
       "4       1       50     4.0  1217896523\n",
       "5       1      110     4.0  1217896150\n",
       "6       1      150     3.0  1217895940\n",
       "7       1      161     4.0  1217897864\n",
       "8       1      165     3.0  1217897135\n",
       "9       1      204     0.5  1217895786"
      ]
     },
     "execution_count": 4,
     "metadata": {},
     "output_type": "execute_result"
    }
   ],
   "source": [
    "rating_df.head(10)"
   ]
  },
  {
   "cell_type": "code",
   "execution_count": 5,
   "id": "3c148bcf",
   "metadata": {},
   "outputs": [
    {
     "data": {
      "text/plain": [
       "<bound method NDFrame.describe of         userId  movieId  rating   timestamp\n",
       "0            1       16     4.0  1217897793\n",
       "1            1       24     1.5  1217895807\n",
       "2            1       32     4.0  1217896246\n",
       "3            1       47     4.0  1217896556\n",
       "4            1       50     4.0  1217896523\n",
       "...        ...      ...     ...         ...\n",
       "105334     668   142488     4.0  1451535844\n",
       "105335     668   142507     3.5  1451535889\n",
       "105336     668   143385     4.0  1446388585\n",
       "105337     668   144976     2.5  1448656898\n",
       "105338     668   148626     4.5  1451148148\n",
       "\n",
       "[105339 rows x 4 columns]>"
      ]
     },
     "execution_count": 5,
     "metadata": {},
     "output_type": "execute_result"
    }
   ],
   "source": [
    "rating_df.describe"
   ]
  },
  {
   "cell_type": "code",
   "execution_count": 6,
   "id": "8d910a4c",
   "metadata": {},
   "outputs": [
    {
     "data": {
      "text/plain": [
       "(105339, 4)"
      ]
     },
     "execution_count": 6,
     "metadata": {},
     "output_type": "execute_result"
    }
   ],
   "source": [
    "rating_df.shape"
   ]
  },
  {
   "cell_type": "code",
   "execution_count": 7,
   "id": "3c70cd28",
   "metadata": {},
   "outputs": [
    {
     "data": {
      "text/plain": [
       "Index(['userId', 'movieId', 'rating', 'timestamp'], dtype='object')"
      ]
     },
     "execution_count": 7,
     "metadata": {},
     "output_type": "execute_result"
    }
   ],
   "source": [
    "rating_df.columns"
   ]
  },
  {
   "cell_type": "code",
   "execution_count": null,
   "id": "50b46b98",
   "metadata": {},
   "outputs": [],
   "source": []
  },
  {
   "cell_type": "code",
   "execution_count": 8,
   "id": "2568cf3f",
   "metadata": {},
   "outputs": [],
   "source": [
    "movie_df = pd.read_csv(\"C:/Users/Kalpesh__K__/Datasets/movies.csv\")"
   ]
  },
  {
   "cell_type": "code",
   "execution_count": 9,
   "id": "46f10e10",
   "metadata": {},
   "outputs": [
    {
     "data": {
      "text/html": [
       "<div>\n",
       "<style scoped>\n",
       "    .dataframe tbody tr th:only-of-type {\n",
       "        vertical-align: middle;\n",
       "    }\n",
       "\n",
       "    .dataframe tbody tr th {\n",
       "        vertical-align: top;\n",
       "    }\n",
       "\n",
       "    .dataframe thead th {\n",
       "        text-align: right;\n",
       "    }\n",
       "</style>\n",
       "<table border=\"1\" class=\"dataframe\">\n",
       "  <thead>\n",
       "    <tr style=\"text-align: right;\">\n",
       "      <th></th>\n",
       "      <th>movieId</th>\n",
       "      <th>title</th>\n",
       "      <th>genres</th>\n",
       "    </tr>\n",
       "  </thead>\n",
       "  <tbody>\n",
       "    <tr>\n",
       "      <th>0</th>\n",
       "      <td>1</td>\n",
       "      <td>Toy Story (1995)</td>\n",
       "      <td>Adventure|Animation|Children|Comedy|Fantasy</td>\n",
       "    </tr>\n",
       "    <tr>\n",
       "      <th>1</th>\n",
       "      <td>2</td>\n",
       "      <td>Jumanji (1995)</td>\n",
       "      <td>Adventure|Children|Fantasy</td>\n",
       "    </tr>\n",
       "    <tr>\n",
       "      <th>2</th>\n",
       "      <td>3</td>\n",
       "      <td>Grumpier Old Men (1995)</td>\n",
       "      <td>Comedy|Romance</td>\n",
       "    </tr>\n",
       "    <tr>\n",
       "      <th>3</th>\n",
       "      <td>4</td>\n",
       "      <td>Waiting to Exhale (1995)</td>\n",
       "      <td>Comedy|Drama|Romance</td>\n",
       "    </tr>\n",
       "    <tr>\n",
       "      <th>4</th>\n",
       "      <td>5</td>\n",
       "      <td>Father of the Bride Part II (1995)</td>\n",
       "      <td>Comedy</td>\n",
       "    </tr>\n",
       "    <tr>\n",
       "      <th>5</th>\n",
       "      <td>6</td>\n",
       "      <td>Heat (1995)</td>\n",
       "      <td>Action|Crime|Thriller</td>\n",
       "    </tr>\n",
       "    <tr>\n",
       "      <th>6</th>\n",
       "      <td>7</td>\n",
       "      <td>Sabrina (1995)</td>\n",
       "      <td>Comedy|Romance</td>\n",
       "    </tr>\n",
       "    <tr>\n",
       "      <th>7</th>\n",
       "      <td>8</td>\n",
       "      <td>Tom and Huck (1995)</td>\n",
       "      <td>Adventure|Children</td>\n",
       "    </tr>\n",
       "    <tr>\n",
       "      <th>8</th>\n",
       "      <td>9</td>\n",
       "      <td>Sudden Death (1995)</td>\n",
       "      <td>Action</td>\n",
       "    </tr>\n",
       "    <tr>\n",
       "      <th>9</th>\n",
       "      <td>10</td>\n",
       "      <td>GoldenEye (1995)</td>\n",
       "      <td>Action|Adventure|Thriller</td>\n",
       "    </tr>\n",
       "  </tbody>\n",
       "</table>\n",
       "</div>"
      ],
      "text/plain": [
       "   movieId                               title  \\\n",
       "0        1                    Toy Story (1995)   \n",
       "1        2                      Jumanji (1995)   \n",
       "2        3             Grumpier Old Men (1995)   \n",
       "3        4            Waiting to Exhale (1995)   \n",
       "4        5  Father of the Bride Part II (1995)   \n",
       "5        6                         Heat (1995)   \n",
       "6        7                      Sabrina (1995)   \n",
       "7        8                 Tom and Huck (1995)   \n",
       "8        9                 Sudden Death (1995)   \n",
       "9       10                    GoldenEye (1995)   \n",
       "\n",
       "                                        genres  \n",
       "0  Adventure|Animation|Children|Comedy|Fantasy  \n",
       "1                   Adventure|Children|Fantasy  \n",
       "2                               Comedy|Romance  \n",
       "3                         Comedy|Drama|Romance  \n",
       "4                                       Comedy  \n",
       "5                        Action|Crime|Thriller  \n",
       "6                               Comedy|Romance  \n",
       "7                           Adventure|Children  \n",
       "8                                       Action  \n",
       "9                    Action|Adventure|Thriller  "
      ]
     },
     "execution_count": 9,
     "metadata": {},
     "output_type": "execute_result"
    }
   ],
   "source": [
    "movie_df.head(10)"
   ]
  },
  {
   "cell_type": "code",
   "execution_count": 10,
   "id": "aef80302",
   "metadata": {},
   "outputs": [
    {
     "data": {
      "text/plain": [
       "Index(['movieId', 'title', 'genres'], dtype='object')"
      ]
     },
     "execution_count": 10,
     "metadata": {},
     "output_type": "execute_result"
    }
   ],
   "source": [
    "movie_df.columns"
   ]
  },
  {
   "cell_type": "code",
   "execution_count": 11,
   "id": "9d159c2d",
   "metadata": {},
   "outputs": [
    {
     "data": {
      "text/plain": [
       "(10329, 3)"
      ]
     },
     "execution_count": 11,
     "metadata": {},
     "output_type": "execute_result"
    }
   ],
   "source": [
    "movie_df.shape"
   ]
  },
  {
   "cell_type": "code",
   "execution_count": 12,
   "id": "1f253dbe",
   "metadata": {},
   "outputs": [
    {
     "data": {
      "text/html": [
       "<div>\n",
       "<style scoped>\n",
       "    .dataframe tbody tr th:only-of-type {\n",
       "        vertical-align: middle;\n",
       "    }\n",
       "\n",
       "    .dataframe tbody tr th {\n",
       "        vertical-align: top;\n",
       "    }\n",
       "\n",
       "    .dataframe thead th {\n",
       "        text-align: right;\n",
       "    }\n",
       "</style>\n",
       "<table border=\"1\" class=\"dataframe\">\n",
       "  <thead>\n",
       "    <tr style=\"text-align: right;\">\n",
       "      <th></th>\n",
       "      <th>userId</th>\n",
       "      <th>movieId</th>\n",
       "      <th>rating</th>\n",
       "      <th>timestamp</th>\n",
       "    </tr>\n",
       "  </thead>\n",
       "  <tbody>\n",
       "    <tr>\n",
       "      <th>count</th>\n",
       "      <td>105339.000000</td>\n",
       "      <td>105339.000000</td>\n",
       "      <td>105339.000000</td>\n",
       "      <td>1.053390e+05</td>\n",
       "    </tr>\n",
       "    <tr>\n",
       "      <th>mean</th>\n",
       "      <td>364.924539</td>\n",
       "      <td>13381.312477</td>\n",
       "      <td>3.516850</td>\n",
       "      <td>1.130424e+09</td>\n",
       "    </tr>\n",
       "    <tr>\n",
       "      <th>std</th>\n",
       "      <td>197.486905</td>\n",
       "      <td>26170.456869</td>\n",
       "      <td>1.044872</td>\n",
       "      <td>1.802660e+08</td>\n",
       "    </tr>\n",
       "    <tr>\n",
       "      <th>min</th>\n",
       "      <td>1.000000</td>\n",
       "      <td>1.000000</td>\n",
       "      <td>0.500000</td>\n",
       "      <td>8.285650e+08</td>\n",
       "    </tr>\n",
       "    <tr>\n",
       "      <th>25%</th>\n",
       "      <td>192.000000</td>\n",
       "      <td>1073.000000</td>\n",
       "      <td>3.000000</td>\n",
       "      <td>9.711008e+08</td>\n",
       "    </tr>\n",
       "    <tr>\n",
       "      <th>50%</th>\n",
       "      <td>383.000000</td>\n",
       "      <td>2497.000000</td>\n",
       "      <td>3.500000</td>\n",
       "      <td>1.115154e+09</td>\n",
       "    </tr>\n",
       "    <tr>\n",
       "      <th>75%</th>\n",
       "      <td>557.000000</td>\n",
       "      <td>5991.000000</td>\n",
       "      <td>4.000000</td>\n",
       "      <td>1.275496e+09</td>\n",
       "    </tr>\n",
       "    <tr>\n",
       "      <th>max</th>\n",
       "      <td>668.000000</td>\n",
       "      <td>149532.000000</td>\n",
       "      <td>5.000000</td>\n",
       "      <td>1.452405e+09</td>\n",
       "    </tr>\n",
       "  </tbody>\n",
       "</table>\n",
       "</div>"
      ],
      "text/plain": [
       "              userId        movieId         rating     timestamp\n",
       "count  105339.000000  105339.000000  105339.000000  1.053390e+05\n",
       "mean      364.924539   13381.312477       3.516850  1.130424e+09\n",
       "std       197.486905   26170.456869       1.044872  1.802660e+08\n",
       "min         1.000000       1.000000       0.500000  8.285650e+08\n",
       "25%       192.000000    1073.000000       3.000000  9.711008e+08\n",
       "50%       383.000000    2497.000000       3.500000  1.115154e+09\n",
       "75%       557.000000    5991.000000       4.000000  1.275496e+09\n",
       "max       668.000000  149532.000000       5.000000  1.452405e+09"
      ]
     },
     "execution_count": 12,
     "metadata": {},
     "output_type": "execute_result"
    }
   ],
   "source": [
    "rating_df.describe()"
   ]
  },
  {
   "cell_type": "code",
   "execution_count": 13,
   "id": "858b631c",
   "metadata": {},
   "outputs": [
    {
     "data": {
      "text/html": [
       "<div>\n",
       "<style scoped>\n",
       "    .dataframe tbody tr th:only-of-type {\n",
       "        vertical-align: middle;\n",
       "    }\n",
       "\n",
       "    .dataframe tbody tr th {\n",
       "        vertical-align: top;\n",
       "    }\n",
       "\n",
       "    .dataframe thead th {\n",
       "        text-align: right;\n",
       "    }\n",
       "</style>\n",
       "<table border=\"1\" class=\"dataframe\">\n",
       "  <thead>\n",
       "    <tr style=\"text-align: right;\">\n",
       "      <th></th>\n",
       "      <th>movieId</th>\n",
       "    </tr>\n",
       "  </thead>\n",
       "  <tbody>\n",
       "    <tr>\n",
       "      <th>count</th>\n",
       "      <td>10329.000000</td>\n",
       "    </tr>\n",
       "    <tr>\n",
       "      <th>mean</th>\n",
       "      <td>31924.282893</td>\n",
       "    </tr>\n",
       "    <tr>\n",
       "      <th>std</th>\n",
       "      <td>37734.741149</td>\n",
       "    </tr>\n",
       "    <tr>\n",
       "      <th>min</th>\n",
       "      <td>1.000000</td>\n",
       "    </tr>\n",
       "    <tr>\n",
       "      <th>25%</th>\n",
       "      <td>3240.000000</td>\n",
       "    </tr>\n",
       "    <tr>\n",
       "      <th>50%</th>\n",
       "      <td>7088.000000</td>\n",
       "    </tr>\n",
       "    <tr>\n",
       "      <th>75%</th>\n",
       "      <td>59900.000000</td>\n",
       "    </tr>\n",
       "    <tr>\n",
       "      <th>max</th>\n",
       "      <td>149532.000000</td>\n",
       "    </tr>\n",
       "  </tbody>\n",
       "</table>\n",
       "</div>"
      ],
      "text/plain": [
       "             movieId\n",
       "count   10329.000000\n",
       "mean    31924.282893\n",
       "std     37734.741149\n",
       "min         1.000000\n",
       "25%      3240.000000\n",
       "50%      7088.000000\n",
       "75%     59900.000000\n",
       "max    149532.000000"
      ]
     },
     "execution_count": 13,
     "metadata": {},
     "output_type": "execute_result"
    }
   ],
   "source": [
    "movie_df.describe()"
   ]
  },
  {
   "cell_type": "code",
   "execution_count": null,
   "id": "6d52b658",
   "metadata": {},
   "outputs": [],
   "source": [
    "\n"
   ]
  },
  {
   "cell_type": "code",
   "execution_count": 14,
   "id": "5d130696",
   "metadata": {},
   "outputs": [
    {
     "name": "stdout",
     "output_type": "stream",
     "text": [
      "Number of unique users: 668\n",
      "Number of unique movies: 10325\n"
     ]
    }
   ],
   "source": [
    "# Number of unique users in the ratings dataframe\n",
    "num_users = rating_df['userId'].nunique()\n",
    "print('Number of unique users:', num_users)\n",
    "\n",
    "# Number of unique movies in the ratings dataframe\n",
    "num_movies = rating_df['movieId'].nunique()\n",
    "print('Number of unique movies:', num_movies)\n"
   ]
  },
  {
   "cell_type": "code",
   "execution_count": 15,
   "id": "aea50ee7",
   "metadata": {},
   "outputs": [
    {
     "name": "stdout",
     "output_type": "stream",
     "text": [
      "Number of unique genres: 20\n",
      "Unique genres: {'Western', 'Adventure', 'Animation', 'Mystery', 'Thriller', 'Action', 'Comedy', 'Crime', 'Film-Noir', '(no genres listed)', 'Children', 'Horror', 'War', 'IMAX', 'Drama', 'Romance', 'Musical', 'Fantasy', 'Sci-Fi', 'Documentary'}\n"
     ]
    }
   ],
   "source": [
    "# Extract all unique genres from the movies dataframe\n",
    "unique_genres = set()\n",
    "for genre_string in movie_df['genres']:\n",
    "    genre_list = genre_string.split('|')\n",
    "    unique_genres.update(genre_list)\n",
    "    \n",
    "print('Number of unique genres:', len(unique_genres))\n",
    "print('Unique genres:', unique_genres)\n"
   ]
  },
  {
   "cell_type": "code",
   "execution_count": 16,
   "id": "fef10544",
   "metadata": {},
   "outputs": [
    {
     "ename": "IndexError",
     "evalue": "index 0 is out of bounds for axis 0 with size 0",
     "output_type": "error",
     "traceback": [
      "\u001b[1;31m---------------------------------------------------------------------------\u001b[0m",
      "\u001b[1;31mIndexError\u001b[0m                                Traceback (most recent call last)",
      "Input \u001b[1;32mIn [16]\u001b[0m, in \u001b[0;36m<cell line: 37>\u001b[1;34m()\u001b[0m\n\u001b[0;32m     34\u001b[0m     \u001b[38;5;28;01mreturn\u001b[39;00m similar_movies\n\u001b[0;32m     36\u001b[0m \u001b[38;5;66;03m# Test the function with an example\u001b[39;00m\n\u001b[1;32m---> 37\u001b[0m recommendations \u001b[38;5;241m=\u001b[39m \u001b[43mget_similar_movies\u001b[49m\u001b[43m(\u001b[49m\u001b[38;5;124;43m'\u001b[39;49m\u001b[38;5;124;43mToy Story\u001b[39;49m\u001b[38;5;124;43m'\u001b[39;49m\u001b[43m,\u001b[49m\u001b[43m \u001b[49m\u001b[43mn_recommendations\u001b[49m\u001b[38;5;241;43m=\u001b[39;49m\u001b[38;5;241;43m5\u001b[39;49m\u001b[43m)\u001b[49m\n\u001b[0;32m     38\u001b[0m \u001b[38;5;28mprint\u001b[39m(recommendations)\n",
      "Input \u001b[1;32mIn [16]\u001b[0m, in \u001b[0;36mget_similar_movies\u001b[1;34m(title, n_recommendations)\u001b[0m\n\u001b[0;32m     18\u001b[0m \u001b[38;5;28;01mdef\u001b[39;00m \u001b[38;5;21mget_similar_movies\u001b[39m(title, n_recommendations\u001b[38;5;241m=\u001b[39m\u001b[38;5;241m5\u001b[39m):\n\u001b[0;32m     19\u001b[0m     \u001b[38;5;66;03m# Get the index of the movie with the given title\u001b[39;00m\n\u001b[1;32m---> 20\u001b[0m     idx \u001b[38;5;241m=\u001b[39m \u001b[43mmovie_df\u001b[49m\u001b[43m[\u001b[49m\u001b[43mmovie_df\u001b[49m\u001b[43m[\u001b[49m\u001b[38;5;124;43m'\u001b[39;49m\u001b[38;5;124;43mtitle\u001b[39;49m\u001b[38;5;124;43m'\u001b[39;49m\u001b[43m]\u001b[49m\u001b[43m \u001b[49m\u001b[38;5;241;43m==\u001b[39;49m\u001b[43m \u001b[49m\u001b[43mtitle\u001b[49m\u001b[43m]\u001b[49m\u001b[38;5;241;43m.\u001b[39;49m\u001b[43mindex\u001b[49m\u001b[43m[\u001b[49m\u001b[38;5;241;43m0\u001b[39;49m\u001b[43m]\u001b[49m\n\u001b[0;32m     22\u001b[0m     \u001b[38;5;66;03m# Compute the cosine similarity between the given movie and all other movies based on genres\u001b[39;00m\n\u001b[0;32m     23\u001b[0m     cosine_similarities \u001b[38;5;241m=\u001b[39m cosine_similarity(tfidf_matrix[idx], tfidf_matrix)\n",
      "File \u001b[1;32m~\\anaconda3\\lib\\site-packages\\pandas\\core\\indexes\\base.py:5039\u001b[0m, in \u001b[0;36mIndex.__getitem__\u001b[1;34m(self, key)\u001b[0m\n\u001b[0;32m   5036\u001b[0m \u001b[38;5;28;01mif\u001b[39;00m is_integer(key) \u001b[38;5;129;01mor\u001b[39;00m is_float(key):\n\u001b[0;32m   5037\u001b[0m     \u001b[38;5;66;03m# GH#44051 exclude bool, which would return a 2d ndarray\u001b[39;00m\n\u001b[0;32m   5038\u001b[0m     key \u001b[38;5;241m=\u001b[39m com\u001b[38;5;241m.\u001b[39mcast_scalar_indexer(key, warn_float\u001b[38;5;241m=\u001b[39m\u001b[38;5;28;01mTrue\u001b[39;00m)\n\u001b[1;32m-> 5039\u001b[0m     \u001b[38;5;28;01mreturn\u001b[39;00m \u001b[43mgetitem\u001b[49m\u001b[43m(\u001b[49m\u001b[43mkey\u001b[49m\u001b[43m)\u001b[49m\n\u001b[0;32m   5041\u001b[0m \u001b[38;5;28;01mif\u001b[39;00m \u001b[38;5;28misinstance\u001b[39m(key, \u001b[38;5;28mslice\u001b[39m):\n\u001b[0;32m   5042\u001b[0m     \u001b[38;5;66;03m# This case is separated from the conditional above to avoid\u001b[39;00m\n\u001b[0;32m   5043\u001b[0m     \u001b[38;5;66;03m# pessimization com.is_bool_indexer and ndim checks.\u001b[39;00m\n\u001b[0;32m   5044\u001b[0m     result \u001b[38;5;241m=\u001b[39m getitem(key)\n",
      "\u001b[1;31mIndexError\u001b[0m: index 0 is out of bounds for axis 0 with size 0"
     ]
    }
   ],
   "source": [
    "import pandas as pd\n",
    "from sklearn.feature_extraction.text import TfidfVectorizer\n",
    "from sklearn.metrics.pairwise import cosine_similarity\n",
    "\n",
    "# Load data\n",
    "\n",
    "\n",
    "# Compute the weighted rating of each movie\n",
    "C = rating_df['rating'].mean()\n",
    "m = rating_df.groupby('movieId').size()\n",
    "movie_df['weighted_rating'] = (rating_df.groupby('movieId')['rating'].mean() * m) / (m + 1000) + (C * 1000) / (m + 1000)\n",
    "\n",
    "# Create a TF-IDF matrix of movie genres\n",
    "tfidf = TfidfVectorizer(stop_words='english')\n",
    "tfidf_matrix = tfidf.fit_transform(movie_df['genres'].fillna(''))\n",
    "\n",
    "# Define a function to get similar movies based on genres\n",
    "def get_similar_movies(title, n_recommendations=5):\n",
    "    # Get the index of the movie with the given title\n",
    "    idx = movie_df[movie_df['title'] == title].index[0]\n",
    "\n",
    "    # Compute the cosine similarity between the given movie and all other movies based on genres\n",
    "    cosine_similarities = cosine_similarity(tfidf_matrix[idx], tfidf_matrix)\n",
    "\n",
    "    # Get the top N movies with the highest cosine similarity and highest weighted rating\n",
    "    similar_movies = []\n",
    "    for i in cosine_similarities.argsort()[0][::-1]:\n",
    "        if i != idx:\n",
    "            movie = movies.iloc[i]\n",
    "            if len(similar_movies) >= n_recommendations:\n",
    "                break\n",
    "            if movie['weighted_rating'] >= 3.0:\n",
    "                similar_movies.append(movie['title'])\n",
    "    return similar_movies\n",
    "\n",
    "# Test the function with an example\n",
    "recommendations = get_similar_movies('Toy Story', n_recommendations=5)\n",
    "print(recommendations)\n"
   ]
  },
  {
   "cell_type": "code",
   "execution_count": null,
   "id": "29b638e1",
   "metadata": {},
   "outputs": [],
   "source": []
  },
  {
   "cell_type": "code",
   "execution_count": 17,
   "id": "cf79213f",
   "metadata": {},
   "outputs": [
    {
     "data": {
      "text/plain": [
       "Index(['movieId', 'title', 'genres', 'weighted_rating'], dtype='object')"
      ]
     },
     "execution_count": 17,
     "metadata": {},
     "output_type": "execute_result"
    }
   ],
   "source": [
    "movie_df.columns"
   ]
  },
  {
   "cell_type": "code",
   "execution_count": 18,
   "id": "87deca4b",
   "metadata": {},
   "outputs": [
    {
     "data": {
      "text/plain": [
       "Index(['movieId', 'title', 'genres', 'weighted_rating'], dtype='object')"
      ]
     },
     "execution_count": 18,
     "metadata": {},
     "output_type": "execute_result"
    }
   ],
   "source": [
    "movie_df.columns"
   ]
  },
  {
   "cell_type": "code",
   "execution_count": 19,
   "id": "1b3db771",
   "metadata": {},
   "outputs": [
    {
     "ename": "NameError",
     "evalue": "name 'recommendations' is not defined",
     "output_type": "error",
     "traceback": [
      "\u001b[1;31m---------------------------------------------------------------------------\u001b[0m",
      "\u001b[1;31mNameError\u001b[0m                                 Traceback (most recent call last)",
      "Input \u001b[1;32mIn [19]\u001b[0m, in \u001b[0;36m<cell line: 18>\u001b[1;34m()\u001b[0m\n\u001b[0;32m     11\u001b[0m ratings \u001b[38;5;241m=\u001b[39m rating_df[rating_df[\u001b[38;5;124m'\u001b[39m\u001b[38;5;124mrating\u001b[39m\u001b[38;5;124m'\u001b[39m] \u001b[38;5;241m>\u001b[39m\u001b[38;5;241m=\u001b[39m min_rating]\n\u001b[0;32m     17\u001b[0m \u001b[38;5;66;03m# Select the top N movies and return their titles and average ratings\u001b[39;00m\n\u001b[1;32m---> 18\u001b[0m top_movies \u001b[38;5;241m=\u001b[39m \u001b[43mrecommendations\u001b[49m\u001b[38;5;241m.\u001b[39mhead(top_n)\n\u001b[0;32m     19\u001b[0m \u001b[38;5;28mprint\u001b[39m(top_movies[[\u001b[38;5;124m'\u001b[39m\u001b[38;5;124mtitle\u001b[39m\u001b[38;5;124m'\u001b[39m, \u001b[38;5;124m'\u001b[39m\u001b[38;5;124mavg_rating\u001b[39m\u001b[38;5;124m'\u001b[39m]])\n",
      "\u001b[1;31mNameError\u001b[0m: name 'recommendations' is not defined"
     ]
    }
   ],
   "source": [
    "import pandas as pd\n",
    "\n",
    "# Define the input parameters\n",
    "genre = 'Action'\n",
    "min_rating = 3\n",
    "top_n = 5\n",
    "\n",
    "# Filter the movies by the input genre and minimum rating threshold\n",
    "movies = movie_df[movie_df['genres'].str.contains(genre)]\n",
    "ratings = rating_df[rating_df['movieId'].isin(movies['movieId'])]\n",
    "ratings = rating_df[rating_df['rating'] >= min_rating]\n",
    "\n",
    "\n",
    "\n",
    "\n",
    "\n",
    "# Select the top N movies and return their titles and average ratings\n",
    "top_movies = recommendations.head(top_n)\n",
    "print(top_movies[['title', 'avg_rating']])\n"
   ]
  },
  {
   "cell_type": "code",
   "execution_count": 21,
   "id": "4e7afcd7",
   "metadata": {},
   "outputs": [],
   "source": [
    "# Calculate the popularity of each movie\n",
    "popularity = ratings.groupby('movieId')['rating'].count().reset_index()\n",
    "popularity.columns = ['movieId', 'popularity']\n"
   ]
  },
  {
   "cell_type": "code",
   "execution_count": 22,
   "id": "a5b13275",
   "metadata": {},
   "outputs": [
    {
     "name": "stdout",
     "output_type": "stream",
     "text": [
      "      movieId  popularity\n",
      "0           1         221\n",
      "1           2          79\n",
      "2           3          46\n",
      "4           5          51\n",
      "5           6         110\n",
      "...       ...         ...\n",
      "8599   119145          12\n",
      "8610   122882          20\n",
      "8612   122892          12\n",
      "8674   134130          13\n",
      "8680   134853          16\n",
      "\n",
      "[1929 rows x 2 columns]\n"
     ]
    }
   ],
   "source": [
    "# Filter the movies by the popularity\n",
    "min_popularity = 10\n",
    "popular_movies = popularity[popularity['popularity'] >= min_popularity]\n",
    "ratings = ratings[ratings['movieId'].isin(popular_movies['movieId'])]\n",
    "print(popular_movies)\n",
    "#print(top_movies[['title', 'avg_rating']])\n"
   ]
  },
  {
   "cell_type": "code",
   "execution_count": 23,
   "id": "70356547",
   "metadata": {},
   "outputs": [
    {
     "name": "stdout",
     "output_type": "stream",
     "text": [
      "      movieId  avg_rating\n",
      "0           1    4.004525\n",
      "1           2    3.556962\n",
      "2           3    3.510870\n",
      "3           5    3.509804\n",
      "4           6    4.163636\n",
      "...       ...         ...\n",
      "1924   119145    3.833333\n",
      "1925   122882    3.950000\n",
      "1926   122892    3.791667\n",
      "1927   134130    3.961538\n",
      "1928   134853    4.125000\n",
      "\n",
      "[1929 rows x 2 columns]\n"
     ]
    }
   ],
   "source": [
    "# Calculate the average rating for each movie\n",
    "avg_ratings = ratings.groupby('movieId')['rating'].mean().reset_index()\n",
    "avg_ratings.columns = ['movieId', 'avg_rating']\n",
    "print(avg_ratings)"
   ]
  },
  {
   "cell_type": "code",
   "execution_count": 24,
   "id": "f2b97644",
   "metadata": {},
   "outputs": [
    {
     "name": "stdout",
     "output_type": "stream",
     "text": [
      "     movieId                                title  avg_rating\n",
      "0          6                          Heat (1995)    4.163636\n",
      "1          9                  Sudden Death (1995)    3.277778\n",
      "2         10                     GoldenEye (1995)    3.698413\n",
      "3         15              Cutthroat Island (1995)    3.300000\n",
      "4         20                   Money Train (1995)    3.285714\n",
      "..       ...                                  ...         ...\n",
      "521   115617                    Big Hero 6 (2014)    4.400000\n",
      "522   119145  Kingsman: The Secret Service (2015)    3.833333\n",
      "523   122882            Mad Max: Fury Road (2015)    3.950000\n",
      "524   122892       Avengers: Age of Ultron (2015)    3.791667\n",
      "525   134130                  Martian, The (2015)    3.961538\n",
      "\n",
      "[526 rows x 3 columns]\n"
     ]
    }
   ],
   "source": [
    "# Merge the movie titles and average ratings\n",
    "recommendations = pd.merge(movies[['movieId', 'title']], avg_ratings, on='movieId')\n",
    "print(recommendations)"
   ]
  },
  {
   "cell_type": "code",
   "execution_count": 25,
   "id": "7dd0686b",
   "metadata": {},
   "outputs": [
    {
     "name": "stdout",
     "output_type": "stream",
     "text": [
      "     movieId                                     title  avg_rating\n",
      "165     1927     All Quiet on the Western Front (1930)    4.500000\n",
      "521   115617                         Big Hero 6 (2014)    4.400000\n",
      "236     2959                         Fight Club (1999)    4.399471\n",
      "208     2571                        Matrix, The (1999)    4.395161\n",
      "242     3000  Princess Mononoke (Mononoke-hime) (1997)    4.384615\n",
      "..       ...                                       ...         ...\n",
      "4         20                        Money Train (1995)    3.285714\n",
      "1          9                       Sudden Death (1995)    3.277778\n",
      "315     4643                 Planet of the Apes (2001)    3.272727\n",
      "210     2616                         Dick Tracy (1990)    3.138889\n",
      "137     1499                           Anaconda (1997)    3.136364\n",
      "\n",
      "[526 rows x 3 columns]\n"
     ]
    }
   ],
   "source": [
    "# Sort the movies by their average rating\n",
    "recommendations = recommendations.sort_values('avg_rating', ascending=False)\n",
    "\n",
    "\n",
    "print(recommendations)"
   ]
  },
  {
   "cell_type": "code",
   "execution_count": 26,
   "id": "7b63ca3c",
   "metadata": {},
   "outputs": [
    {
     "name": "stdout",
     "output_type": "stream",
     "text": [
      "                                        title  avg_rating\n",
      "165     All Quiet on the Western Front (1930)    4.500000\n",
      "521                         Big Hero 6 (2014)    4.400000\n",
      "236                         Fight Club (1999)    4.399471\n",
      "208                        Matrix, The (1999)    4.395161\n",
      "242  Princess Mononoke (Mononoke-hime) (1997)    4.384615\n"
     ]
    }
   ],
   "source": [
    "# Select the top N movies and return their titles and average ratings\n",
    "top_movies = recommendations.head(top_n)\n",
    "print(top_movies[['title', 'avg_rating']])\n"
   ]
  },
  {
   "cell_type": "code",
   "execution_count": 27,
   "id": "ae4d57e3",
   "metadata": {},
   "outputs": [],
   "source": [
    "\n",
    "\n",
    "# Without specifying suffix\n",
    "df = pd.concat([movie_df, rating_df], axis=1)\n",
    "df = pd.concat([movie_df, rating_df.add_suffix('_2')], axis=1)\n"
   ]
  },
  {
   "cell_type": "code",
   "execution_count": 28,
   "id": "a91b142c",
   "metadata": {},
   "outputs": [
    {
     "data": {
      "text/html": [
       "<div>\n",
       "<style scoped>\n",
       "    .dataframe tbody tr th:only-of-type {\n",
       "        vertical-align: middle;\n",
       "    }\n",
       "\n",
       "    .dataframe tbody tr th {\n",
       "        vertical-align: top;\n",
       "    }\n",
       "\n",
       "    .dataframe thead th {\n",
       "        text-align: right;\n",
       "    }\n",
       "</style>\n",
       "<table border=\"1\" class=\"dataframe\">\n",
       "  <thead>\n",
       "    <tr style=\"text-align: right;\">\n",
       "      <th></th>\n",
       "      <th>movieId</th>\n",
       "      <th>title</th>\n",
       "      <th>genres</th>\n",
       "      <th>weighted_rating</th>\n",
       "      <th>userId_2</th>\n",
       "      <th>movieId_2</th>\n",
       "      <th>rating_2</th>\n",
       "      <th>timestamp_2</th>\n",
       "    </tr>\n",
       "  </thead>\n",
       "  <tbody>\n",
       "    <tr>\n",
       "      <th>0</th>\n",
       "      <td>1.0</td>\n",
       "      <td>Toy Story (1995)</td>\n",
       "      <td>Adventure|Animation|Children|Comedy|Fantasy</td>\n",
       "      <td>NaN</td>\n",
       "      <td>1</td>\n",
       "      <td>16</td>\n",
       "      <td>4.0</td>\n",
       "      <td>1217897793</td>\n",
       "    </tr>\n",
       "    <tr>\n",
       "      <th>1</th>\n",
       "      <td>2.0</td>\n",
       "      <td>Jumanji (1995)</td>\n",
       "      <td>Adventure|Children|Fantasy</td>\n",
       "      <td>3.590382</td>\n",
       "      <td>1</td>\n",
       "      <td>24</td>\n",
       "      <td>1.5</td>\n",
       "      <td>1217895807</td>\n",
       "    </tr>\n",
       "    <tr>\n",
       "      <th>2</th>\n",
       "      <td>3.0</td>\n",
       "      <td>Grumpier Old Men (1995)</td>\n",
       "      <td>Comedy|Romance</td>\n",
       "      <td>3.503068</td>\n",
       "      <td>1</td>\n",
       "      <td>32</td>\n",
       "      <td>4.0</td>\n",
       "      <td>1217896246</td>\n",
       "    </tr>\n",
       "    <tr>\n",
       "      <th>3</th>\n",
       "      <td>4.0</td>\n",
       "      <td>Waiting to Exhale (1995)</td>\n",
       "      <td>Comedy|Drama|Romance</td>\n",
       "      <td>3.498913</td>\n",
       "      <td>1</td>\n",
       "      <td>47</td>\n",
       "      <td>4.0</td>\n",
       "      <td>1217896556</td>\n",
       "    </tr>\n",
       "    <tr>\n",
       "      <th>4</th>\n",
       "      <td>5.0</td>\n",
       "      <td>Father of the Bride Part II (1995)</td>\n",
       "      <td>Comedy</td>\n",
       "      <td>3.509249</td>\n",
       "      <td>1</td>\n",
       "      <td>50</td>\n",
       "      <td>4.0</td>\n",
       "      <td>1217896523</td>\n",
       "    </tr>\n",
       "    <tr>\n",
       "      <th>5</th>\n",
       "      <td>6.0</td>\n",
       "      <td>Heat (1995)</td>\n",
       "      <td>Action|Crime|Thriller</td>\n",
       "      <td>3.501272</td>\n",
       "      <td>1</td>\n",
       "      <td>110</td>\n",
       "      <td>4.0</td>\n",
       "      <td>1217896150</td>\n",
       "    </tr>\n",
       "    <tr>\n",
       "      <th>6</th>\n",
       "      <td>7.0</td>\n",
       "      <td>Sabrina (1995)</td>\n",
       "      <td>Comedy|Romance</td>\n",
       "      <td>3.574305</td>\n",
       "      <td>1</td>\n",
       "      <td>150</td>\n",
       "      <td>3.0</td>\n",
       "      <td>1217895940</td>\n",
       "    </tr>\n",
       "    <tr>\n",
       "      <th>7</th>\n",
       "      <td>8.0</td>\n",
       "      <td>Tom and Huck (1995)</td>\n",
       "      <td>Adventure|Children</td>\n",
       "      <td>3.509811</td>\n",
       "      <td>1</td>\n",
       "      <td>161</td>\n",
       "      <td>4.0</td>\n",
       "      <td>1217897864</td>\n",
       "    </tr>\n",
       "    <tr>\n",
       "      <th>8</th>\n",
       "      <td>9.0</td>\n",
       "      <td>Sudden Death (1995)</td>\n",
       "      <td>Action</td>\n",
       "      <td>3.517298</td>\n",
       "      <td>1</td>\n",
       "      <td>165</td>\n",
       "      <td>3.0</td>\n",
       "      <td>1217897135</td>\n",
       "    </tr>\n",
       "    <tr>\n",
       "      <th>9</th>\n",
       "      <td>10.0</td>\n",
       "      <td>GoldenEye (1995)</td>\n",
       "      <td>Action|Adventure|Thriller</td>\n",
       "      <td>3.502298</td>\n",
       "      <td>1</td>\n",
       "      <td>204</td>\n",
       "      <td>0.5</td>\n",
       "      <td>1217895786</td>\n",
       "    </tr>\n",
       "  </tbody>\n",
       "</table>\n",
       "</div>"
      ],
      "text/plain": [
       "   movieId                               title  \\\n",
       "0      1.0                    Toy Story (1995)   \n",
       "1      2.0                      Jumanji (1995)   \n",
       "2      3.0             Grumpier Old Men (1995)   \n",
       "3      4.0            Waiting to Exhale (1995)   \n",
       "4      5.0  Father of the Bride Part II (1995)   \n",
       "5      6.0                         Heat (1995)   \n",
       "6      7.0                      Sabrina (1995)   \n",
       "7      8.0                 Tom and Huck (1995)   \n",
       "8      9.0                 Sudden Death (1995)   \n",
       "9     10.0                    GoldenEye (1995)   \n",
       "\n",
       "                                        genres  weighted_rating  userId_2  \\\n",
       "0  Adventure|Animation|Children|Comedy|Fantasy              NaN         1   \n",
       "1                   Adventure|Children|Fantasy         3.590382         1   \n",
       "2                               Comedy|Romance         3.503068         1   \n",
       "3                         Comedy|Drama|Romance         3.498913         1   \n",
       "4                                       Comedy         3.509249         1   \n",
       "5                        Action|Crime|Thriller         3.501272         1   \n",
       "6                               Comedy|Romance         3.574305         1   \n",
       "7                           Adventure|Children         3.509811         1   \n",
       "8                                       Action         3.517298         1   \n",
       "9                    Action|Adventure|Thriller         3.502298         1   \n",
       "\n",
       "   movieId_2  rating_2  timestamp_2  \n",
       "0         16       4.0   1217897793  \n",
       "1         24       1.5   1217895807  \n",
       "2         32       4.0   1217896246  \n",
       "3         47       4.0   1217896556  \n",
       "4         50       4.0   1217896523  \n",
       "5        110       4.0   1217896150  \n",
       "6        150       3.0   1217895940  \n",
       "7        161       4.0   1217897864  \n",
       "8        165       3.0   1217897135  \n",
       "9        204       0.5   1217895786  "
      ]
     },
     "execution_count": 28,
     "metadata": {},
     "output_type": "execute_result"
    }
   ],
   "source": [
    "df.head(10)"
   ]
  },
  {
   "cell_type": "code",
   "execution_count": 29,
   "id": "1ab5dc90",
   "metadata": {},
   "outputs": [
    {
     "data": {
      "text/plain": [
       "Index(['movieId', 'title', 'genres', 'weighted_rating'], dtype='object')"
      ]
     },
     "execution_count": 29,
     "metadata": {},
     "output_type": "execute_result"
    }
   ],
   "source": [
    "movie_df.columns\n"
   ]
  },
  {
   "cell_type": "code",
   "execution_count": 30,
   "id": "6e748486",
   "metadata": {},
   "outputs": [
    {
     "data": {
      "text/plain": [
       "Index(['userId', 'movieId', 'rating', 'timestamp'], dtype='object')"
      ]
     },
     "execution_count": 30,
     "metadata": {},
     "output_type": "execute_result"
    }
   ],
   "source": [
    "rating_df.columns"
   ]
  },
  {
   "cell_type": "code",
   "execution_count": 31,
   "id": "43cb72a4",
   "metadata": {},
   "outputs": [],
   "source": [
    "import pandas as pd\n",
    "\n",
    "# Load the movies and ratings datasets\n",
    "#movies_df = pd.read_csv(\"movies.csv\")\n",
    "#ratings_df = pd.read_csv(\"ratings.csv\")\n",
    "\n",
    "#def popularity_recommender(genre, min_threshold, num_recommendations):\n",
    "    # Filter the movies by the input genre\n",
    " #   genre_movies = movie_df[movie_df[\"genre\"].str.contains(genre)]\n",
    "\n",
    "    # Filter the ratings to only include movies with at least the min_threshold number of ratings\n",
    "  #  ratings_count = rating_df[\"movieId\"].value_counts()\n",
    "   # ratings_filtered = rating_df[rating_df[\"movieId\"].isin(ratings_count.index[ratings_count >= min_threshold])]\n",
    "\n",
    "    # Merge the filtered movies and ratings\n",
    "    #merged_df = pd.merge(ratings_filtered, genre_movies, on=\"movieId\")\n",
    "\n",
    "    # Calculate the popularity score for each movie\n",
    "    #popularity_scores = merged_df.groupby([\"movieId\", \"title\"]).size().reset_index(name=\"popularity_score\")\n",
    "\n",
    "    # Sort the movies by the popularity score and rating\n",
    "#    sorted_movies = popularity_scores.sort_values([\"popularity_score\", \"rating\"], ascending=False)\n",
    "\n",
    "    # Return the top N movies\n",
    " #   top_movies = sorted_movies.head(num_recommendations)\n",
    "\n",
    "  #  return top_movies[[\"title\", \"popularity_score\"]]\n"
   ]
  },
  {
   "cell_type": "code",
   "execution_count": 32,
   "id": "31d737d6",
   "metadata": {
    "scrolled": true
   },
   "outputs": [],
   "source": [
    "#popularity_recommender(\"Comedy\", 100, 5)\n",
    "\n",
    "\n",
    "\n",
    "\n",
    "\n"
   ]
  },
  {
   "cell_type": "code",
   "execution_count": 36,
   "id": "5216ac57",
   "metadata": {},
   "outputs": [
    {
     "name": "stdout",
     "output_type": "stream",
     "text": [
      "Enter a genre: Comedy\n",
      "Enter a minimum rating threshold: 100\n",
      "Enter the number of recommendations: 5\n",
      "Top 5 recommendations for genre 'Comedy':\n",
      "19. nan (Avg. rating: 4.43, Num. reviews: 146)\n",
      "15. nan (Avg. rating: 4.33, Num. reviews: 196)\n",
      "4. nan (Avg. rating: 4.32, Num. reviews: 305)\n",
      "6. nan (Avg. rating: 4.30, Num. reviews: 291)\n",
      "20. Princess Bride, The (1987) (Avg. rating: 4.28, Num. reviews: 162)\n"
     ]
    }
   ],
   "source": [
    "# User inputs\n",
    "genre = input(\"Enter a genre: \")\n",
    "min_rating_threshold = float(input(\"Enter a minimum rating threshold: \"))\n",
    "num_recommendations = int(input(\"Enter the number of recommendations: \"))\n",
    "\n",
    "# Filter the movies dataset by genre and minimum rating threshold\n",
    "genre_movies = movie_df[movie_df['genres'].str.contains(genre)]\n",
    "genre_ratings = ratings[ratings['movieId'].isin(genre_movies['movieId'].tolist())]\n",
    "genre_ratings_counts = genre_ratings.groupby('movieId')['rating'].count().reset_index()\n",
    "genre_ratings_counts.rename(columns={'rating':'num_ratings'}, inplace=True)\n",
    "popular_movies = genre_ratings_counts[genre_ratings_counts['num_ratings'] >= min_rating_threshold]\n",
    "popular_movies = popular_movies.merge(movies, on='movieId', how='left')\n",
    "\n",
    "# Sort the popular movies by average rating and number of reviews\n",
    "popular_movies['average_rating'] = popular_movies['movieId'].apply(lambda x: ratings[ratings['movieId']==x]['rating'].mean())\n",
    "popular_movies = popular_movies.sort_values(['average_rating', 'num_ratings'], ascending=False)\n",
    "\n",
    "# Display top N movie recommendations\n",
    "print(\"Top {} recommendations for genre '{}':\".format(num_recommendations, genre))\n",
    "for i, row in popular_movies.head(num_recommendations).iterrows():\n",
    "    print(\"{}. {} (Avg. rating: {:.2f}, Num. reviews: {})\".format(i+1, row['title'], row['average_rating'], row['num_ratings']))\n"
   ]
  },
  {
   "cell_type": "code",
   "execution_count": 66,
   "id": "9f261b48",
   "metadata": {},
   "outputs": [
    {
     "ename": "IndexError",
     "evalue": "single positional indexer is out-of-bounds",
     "output_type": "error",
     "traceback": [
      "\u001b[1;31m---------------------------------------------------------------------------\u001b[0m",
      "\u001b[1;31mIndexError\u001b[0m                                Traceback (most recent call last)",
      "Input \u001b[1;32mIn [66]\u001b[0m, in \u001b[0;36m<cell line: 20>\u001b[1;34m()\u001b[0m\n\u001b[0;32m     17\u001b[0m \u001b[38;5;66;03m# Get the index of the input movie\u001b[39;00m\n\u001b[0;32m     18\u001b[0m \u001b[38;5;66;03m#movie_index = movies[movies['title'] == movie_title].index[0]\u001b[39;00m\n\u001b[0;32m     19\u001b[0m input_title \u001b[38;5;241m=\u001b[39m \u001b[38;5;124m'\u001b[39m\u001b[38;5;124mToy Story\u001b[39m\u001b[38;5;124m'\u001b[39m\n\u001b[1;32m---> 20\u001b[0m input_movie_row \u001b[38;5;241m=\u001b[39m \u001b[43mmovies\u001b[49m\u001b[43m[\u001b[49m\u001b[43mmovies\u001b[49m\u001b[43m[\u001b[49m\u001b[38;5;124;43m'\u001b[39;49m\u001b[38;5;124;43mtitle\u001b[39;49m\u001b[38;5;124;43m'\u001b[39;49m\u001b[43m]\u001b[49m\u001b[43m \u001b[49m\u001b[38;5;241;43m==\u001b[39;49m\u001b[43m \u001b[49m\u001b[43minput_title\u001b[49m\u001b[43m]\u001b[49m\u001b[38;5;241;43m.\u001b[39;49m\u001b[43miloc\u001b[49m\u001b[43m[\u001b[49m\u001b[38;5;241;43m0\u001b[39;49m\u001b[43m]\u001b[49m\n\u001b[0;32m     21\u001b[0m input_movie_index \u001b[38;5;241m=\u001b[39m input_movie_row\u001b[38;5;241m.\u001b[39mname\n\u001b[0;32m     24\u001b[0m \u001b[38;5;66;03m# Get the similarity scores between the input movie and all other movies\u001b[39;00m\n",
      "File \u001b[1;32m~\\anaconda3\\lib\\site-packages\\pandas\\core\\indexing.py:967\u001b[0m, in \u001b[0;36m_LocationIndexer.__getitem__\u001b[1;34m(self, key)\u001b[0m\n\u001b[0;32m    964\u001b[0m axis \u001b[38;5;241m=\u001b[39m \u001b[38;5;28mself\u001b[39m\u001b[38;5;241m.\u001b[39maxis \u001b[38;5;129;01mor\u001b[39;00m \u001b[38;5;241m0\u001b[39m\n\u001b[0;32m    966\u001b[0m maybe_callable \u001b[38;5;241m=\u001b[39m com\u001b[38;5;241m.\u001b[39mapply_if_callable(key, \u001b[38;5;28mself\u001b[39m\u001b[38;5;241m.\u001b[39mobj)\n\u001b[1;32m--> 967\u001b[0m \u001b[38;5;28;01mreturn\u001b[39;00m \u001b[38;5;28;43mself\u001b[39;49m\u001b[38;5;241;43m.\u001b[39;49m\u001b[43m_getitem_axis\u001b[49m\u001b[43m(\u001b[49m\u001b[43mmaybe_callable\u001b[49m\u001b[43m,\u001b[49m\u001b[43m \u001b[49m\u001b[43maxis\u001b[49m\u001b[38;5;241;43m=\u001b[39;49m\u001b[43maxis\u001b[49m\u001b[43m)\u001b[49m\n",
      "File \u001b[1;32m~\\anaconda3\\lib\\site-packages\\pandas\\core\\indexing.py:1520\u001b[0m, in \u001b[0;36m_iLocIndexer._getitem_axis\u001b[1;34m(self, key, axis)\u001b[0m\n\u001b[0;32m   1517\u001b[0m     \u001b[38;5;28;01mraise\u001b[39;00m \u001b[38;5;167;01mTypeError\u001b[39;00m(\u001b[38;5;124m\"\u001b[39m\u001b[38;5;124mCannot index by location index with a non-integer key\u001b[39m\u001b[38;5;124m\"\u001b[39m)\n\u001b[0;32m   1519\u001b[0m \u001b[38;5;66;03m# validate the location\u001b[39;00m\n\u001b[1;32m-> 1520\u001b[0m \u001b[38;5;28;43mself\u001b[39;49m\u001b[38;5;241;43m.\u001b[39;49m\u001b[43m_validate_integer\u001b[49m\u001b[43m(\u001b[49m\u001b[43mkey\u001b[49m\u001b[43m,\u001b[49m\u001b[43m \u001b[49m\u001b[43maxis\u001b[49m\u001b[43m)\u001b[49m\n\u001b[0;32m   1522\u001b[0m \u001b[38;5;28;01mreturn\u001b[39;00m \u001b[38;5;28mself\u001b[39m\u001b[38;5;241m.\u001b[39mobj\u001b[38;5;241m.\u001b[39m_ixs(key, axis\u001b[38;5;241m=\u001b[39maxis)\n",
      "File \u001b[1;32m~\\anaconda3\\lib\\site-packages\\pandas\\core\\indexing.py:1452\u001b[0m, in \u001b[0;36m_iLocIndexer._validate_integer\u001b[1;34m(self, key, axis)\u001b[0m\n\u001b[0;32m   1450\u001b[0m len_axis \u001b[38;5;241m=\u001b[39m \u001b[38;5;28mlen\u001b[39m(\u001b[38;5;28mself\u001b[39m\u001b[38;5;241m.\u001b[39mobj\u001b[38;5;241m.\u001b[39m_get_axis(axis))\n\u001b[0;32m   1451\u001b[0m \u001b[38;5;28;01mif\u001b[39;00m key \u001b[38;5;241m>\u001b[39m\u001b[38;5;241m=\u001b[39m len_axis \u001b[38;5;129;01mor\u001b[39;00m key \u001b[38;5;241m<\u001b[39m \u001b[38;5;241m-\u001b[39mlen_axis:\n\u001b[1;32m-> 1452\u001b[0m     \u001b[38;5;28;01mraise\u001b[39;00m \u001b[38;5;167;01mIndexError\u001b[39;00m(\u001b[38;5;124m\"\u001b[39m\u001b[38;5;124msingle positional indexer is out-of-bounds\u001b[39m\u001b[38;5;124m\"\u001b[39m)\n",
      "\u001b[1;31mIndexError\u001b[0m: single positional indexer is out-of-bounds"
     ]
    }
   ],
   "source": [
    "import pandas as pd\n",
    "from sklearn.feature_extraction.text import TfidfVectorizer\n",
    "from sklearn.metrics.pairwise import cosine_similarity\n",
    "\n",
    "# Load the movie metadata from a CSV file\n",
    "movies = pd.read_csv('C:/Users/Kalpesh__K__/Datasets/movies.csv')\n",
    "\n",
    "# Specify the input parameters\n",
    "movie_title = 'Toy Story'\n",
    "num_recommendations = 5\n",
    "\n",
    "# Calculate the similarity between movies based on genre\n",
    "tfidf = TfidfVectorizer()\n",
    "genre_matrix = tfidf.fit_transform(movies['genres'])\n",
    "cos_sim = cosine_similarity(genre_matrix)\n",
    "\n",
    "# Get the index of the input movie\n",
    "#movie_index = movies[movies['title'] == movie_title].index[0]\n",
    "input_title = 'Toy Story'\n",
    "input_movie_row = movies[movies['title'] == input_title].iloc[0]\n",
    "input_movie_index = input_movie_row.name\n",
    "\n",
    "\n",
    "# Get the similarity scores between the input movie and all other movies\n",
    "similarity_scores = cos_sim[movie_index]\n",
    "\n",
    "# Sort the movies by similarity\n",
    "similar_movies = list(enumerate(similarity_scores))\n",
    "sorted_movies = sorted(similar_movies, key=lambda x: x[1], reverse=True)\n",
    "\n",
    "# Recommend the top N movies\n",
    "recommendations = [movies.iloc[i[0]]['title'] for i in sorted_movies[1:num_recommendations+1]]\n",
    "\n",
    "print('Top {} movies similar to {}:'.format(num_recommendations, movie_title))\n",
    "for i, title in enumerate(recommendations):\n",
    "    print('{}. {}'.format(i+1, title))\n"
   ]
  },
  {
   "cell_type": "code",
   "execution_count": 67,
   "id": "f905ba57",
   "metadata": {},
   "outputs": [
    {
     "name": "stdout",
     "output_type": "stream",
     "text": [
      "Top 5 recommended movies for user 1:\n",
      "- Speed (1994)\n",
      "- Die Hard (1988)\n",
      "- Toy Story (1995)\n",
      "- Princess Bride, The (1987)\n",
      "- Indiana Jones and the Last Crusade (1989)\n"
     ]
    }
   ],
   "source": [
    "\n",
    "# Step 1: Calculate the similarity scores between the target user and all other users based on their ratings\n",
    "\n",
    "# create a pivot table with users as rows, movies as columns and ratings as values\n",
    "pivot_table = ratings.pivot_table(index='userId', columns='movieId', values='rating')\n",
    "\n",
    "# calculate the cosine similarity between the target user and all other users\n",
    "from sklearn.metrics.pairwise import cosine_similarity\n",
    "user_similarities = cosine_similarity(pivot_table.fillna(0))\n",
    "\n",
    "# Step 2: Select the top K most similar users to the target user\n",
    "k = 100  # threshold for similar users\n",
    "target_user = 1  # user for whom recommendations are being made\n",
    "\n",
    "# get the indices of the top k similar users to the target user\n",
    "similar_users_indices = user_similarities[target_user-1].argsort()[-k-1:-1][::-1]\n",
    "\n",
    "# Step 3: Identify the movies that the target user has not yet seen but have been seen and rated by the top K similar users\n",
    "# get the movies that the target user has not yet seen\n",
    "movies_not_seen = pivot_table.loc[target_user][pivot_table.loc[target_user].isnull()].index\n",
    "\n",
    "# create a dataframe containing the ratings for these movies by the top k similar users\n",
    "similar_users_ratings = pivot_table.loc[similar_users_indices, movies_not_seen]\n",
    "\n",
    "# Step 4: Calculate the predicted ratings for the target user for these movies\n",
    "# calculate the weighted average of the ratings for each movie by the top k similar users\n",
    "predicted_ratings = similar_users_ratings.apply(lambda x: np.dot(x.fillna(0), user_similarities[target_user-1][similar_users_indices]) / user_similarities[target_user-1][similar_users_indices].sum(), axis=0)\n",
    "\n",
    "# Step 5: Recommend the top N movies based on the predicted ratings\n",
    "n = 5  # number of recommendations to make\n",
    "top_n_movies = predicted_ratings.sort_values(ascending=False)[:n].index.tolist()\n",
    "\n",
    "# print the top N recommended movies\n",
    "print(\"Top {} recommended movies for user {}:\".format(n, target_user))\n",
    "for movie_id in top_n_movies:\n",
    "    movie_title = movies[movies['movieId'] == movie_id]['title'].values[0]\n",
    "    print(\"- \" + movie_title)\n",
    "\n"
   ]
  },
  {
   "cell_type": "markdown",
   "id": "bf99e03a",
   "metadata": {},
   "source": [
    "##### \n",
    "\n",
    "\n"
   ]
  },
  {
   "cell_type": "code",
   "execution_count": 68,
   "id": "bae2549e",
   "metadata": {},
   "outputs": [
    {
     "ename": "FileNotFoundError",
     "evalue": "[Errno 2] No such file or directory: 'movies.csv'",
     "output_type": "error",
     "traceback": [
      "\u001b[1;31m---------------------------------------------------------------------------\u001b[0m",
      "\u001b[1;31mFileNotFoundError\u001b[0m                         Traceback (most recent call last)",
      "Input \u001b[1;32mIn [68]\u001b[0m, in \u001b[0;36m<cell line: 5>\u001b[1;34m()\u001b[0m\n\u001b[0;32m      2\u001b[0m \u001b[38;5;28;01mimport\u001b[39;00m \u001b[38;5;21;01mnumpy\u001b[39;00m \u001b[38;5;28;01mas\u001b[39;00m \u001b[38;5;21;01mnp\u001b[39;00m\n\u001b[0;32m      4\u001b[0m \u001b[38;5;66;03m# Load data\u001b[39;00m\n\u001b[1;32m----> 5\u001b[0m movies \u001b[38;5;241m=\u001b[39m \u001b[43mpd\u001b[49m\u001b[38;5;241;43m.\u001b[39;49m\u001b[43mread_csv\u001b[49m\u001b[43m(\u001b[49m\u001b[38;5;124;43m'\u001b[39;49m\u001b[38;5;124;43mmovies.csv\u001b[39;49m\u001b[38;5;124;43m'\u001b[39;49m\u001b[43m)\u001b[49m\n\u001b[0;32m      6\u001b[0m ratings \u001b[38;5;241m=\u001b[39m pd\u001b[38;5;241m.\u001b[39mread_csv(\u001b[38;5;124m'\u001b[39m\u001b[38;5;124mratings.csv\u001b[39m\u001b[38;5;124m'\u001b[39m)\n\u001b[0;32m      8\u001b[0m \u001b[38;5;66;03m# Merge data\u001b[39;00m\n",
      "File \u001b[1;32m~\\anaconda3\\lib\\site-packages\\pandas\\util\\_decorators.py:311\u001b[0m, in \u001b[0;36mdeprecate_nonkeyword_arguments.<locals>.decorate.<locals>.wrapper\u001b[1;34m(*args, **kwargs)\u001b[0m\n\u001b[0;32m    305\u001b[0m \u001b[38;5;28;01mif\u001b[39;00m \u001b[38;5;28mlen\u001b[39m(args) \u001b[38;5;241m>\u001b[39m num_allow_args:\n\u001b[0;32m    306\u001b[0m     warnings\u001b[38;5;241m.\u001b[39mwarn(\n\u001b[0;32m    307\u001b[0m         msg\u001b[38;5;241m.\u001b[39mformat(arguments\u001b[38;5;241m=\u001b[39marguments),\n\u001b[0;32m    308\u001b[0m         \u001b[38;5;167;01mFutureWarning\u001b[39;00m,\n\u001b[0;32m    309\u001b[0m         stacklevel\u001b[38;5;241m=\u001b[39mstacklevel,\n\u001b[0;32m    310\u001b[0m     )\n\u001b[1;32m--> 311\u001b[0m \u001b[38;5;28;01mreturn\u001b[39;00m func(\u001b[38;5;241m*\u001b[39margs, \u001b[38;5;241m*\u001b[39m\u001b[38;5;241m*\u001b[39mkwargs)\n",
      "File \u001b[1;32m~\\anaconda3\\lib\\site-packages\\pandas\\io\\parsers\\readers.py:680\u001b[0m, in \u001b[0;36mread_csv\u001b[1;34m(filepath_or_buffer, sep, delimiter, header, names, index_col, usecols, squeeze, prefix, mangle_dupe_cols, dtype, engine, converters, true_values, false_values, skipinitialspace, skiprows, skipfooter, nrows, na_values, keep_default_na, na_filter, verbose, skip_blank_lines, parse_dates, infer_datetime_format, keep_date_col, date_parser, dayfirst, cache_dates, iterator, chunksize, compression, thousands, decimal, lineterminator, quotechar, quoting, doublequote, escapechar, comment, encoding, encoding_errors, dialect, error_bad_lines, warn_bad_lines, on_bad_lines, delim_whitespace, low_memory, memory_map, float_precision, storage_options)\u001b[0m\n\u001b[0;32m    665\u001b[0m kwds_defaults \u001b[38;5;241m=\u001b[39m _refine_defaults_read(\n\u001b[0;32m    666\u001b[0m     dialect,\n\u001b[0;32m    667\u001b[0m     delimiter,\n\u001b[1;32m   (...)\u001b[0m\n\u001b[0;32m    676\u001b[0m     defaults\u001b[38;5;241m=\u001b[39m{\u001b[38;5;124m\"\u001b[39m\u001b[38;5;124mdelimiter\u001b[39m\u001b[38;5;124m\"\u001b[39m: \u001b[38;5;124m\"\u001b[39m\u001b[38;5;124m,\u001b[39m\u001b[38;5;124m\"\u001b[39m},\n\u001b[0;32m    677\u001b[0m )\n\u001b[0;32m    678\u001b[0m kwds\u001b[38;5;241m.\u001b[39mupdate(kwds_defaults)\n\u001b[1;32m--> 680\u001b[0m \u001b[38;5;28;01mreturn\u001b[39;00m \u001b[43m_read\u001b[49m\u001b[43m(\u001b[49m\u001b[43mfilepath_or_buffer\u001b[49m\u001b[43m,\u001b[49m\u001b[43m \u001b[49m\u001b[43mkwds\u001b[49m\u001b[43m)\u001b[49m\n",
      "File \u001b[1;32m~\\anaconda3\\lib\\site-packages\\pandas\\io\\parsers\\readers.py:575\u001b[0m, in \u001b[0;36m_read\u001b[1;34m(filepath_or_buffer, kwds)\u001b[0m\n\u001b[0;32m    572\u001b[0m _validate_names(kwds\u001b[38;5;241m.\u001b[39mget(\u001b[38;5;124m\"\u001b[39m\u001b[38;5;124mnames\u001b[39m\u001b[38;5;124m\"\u001b[39m, \u001b[38;5;28;01mNone\u001b[39;00m))\n\u001b[0;32m    574\u001b[0m \u001b[38;5;66;03m# Create the parser.\u001b[39;00m\n\u001b[1;32m--> 575\u001b[0m parser \u001b[38;5;241m=\u001b[39m TextFileReader(filepath_or_buffer, \u001b[38;5;241m*\u001b[39m\u001b[38;5;241m*\u001b[39mkwds)\n\u001b[0;32m    577\u001b[0m \u001b[38;5;28;01mif\u001b[39;00m chunksize \u001b[38;5;129;01mor\u001b[39;00m iterator:\n\u001b[0;32m    578\u001b[0m     \u001b[38;5;28;01mreturn\u001b[39;00m parser\n",
      "File \u001b[1;32m~\\anaconda3\\lib\\site-packages\\pandas\\io\\parsers\\readers.py:933\u001b[0m, in \u001b[0;36mTextFileReader.__init__\u001b[1;34m(self, f, engine, **kwds)\u001b[0m\n\u001b[0;32m    930\u001b[0m     \u001b[38;5;28mself\u001b[39m\u001b[38;5;241m.\u001b[39moptions[\u001b[38;5;124m\"\u001b[39m\u001b[38;5;124mhas_index_names\u001b[39m\u001b[38;5;124m\"\u001b[39m] \u001b[38;5;241m=\u001b[39m kwds[\u001b[38;5;124m\"\u001b[39m\u001b[38;5;124mhas_index_names\u001b[39m\u001b[38;5;124m\"\u001b[39m]\n\u001b[0;32m    932\u001b[0m \u001b[38;5;28mself\u001b[39m\u001b[38;5;241m.\u001b[39mhandles: IOHandles \u001b[38;5;241m|\u001b[39m \u001b[38;5;28;01mNone\u001b[39;00m \u001b[38;5;241m=\u001b[39m \u001b[38;5;28;01mNone\u001b[39;00m\n\u001b[1;32m--> 933\u001b[0m \u001b[38;5;28mself\u001b[39m\u001b[38;5;241m.\u001b[39m_engine \u001b[38;5;241m=\u001b[39m \u001b[38;5;28;43mself\u001b[39;49m\u001b[38;5;241;43m.\u001b[39;49m\u001b[43m_make_engine\u001b[49m\u001b[43m(\u001b[49m\u001b[43mf\u001b[49m\u001b[43m,\u001b[49m\u001b[43m \u001b[49m\u001b[38;5;28;43mself\u001b[39;49m\u001b[38;5;241;43m.\u001b[39;49m\u001b[43mengine\u001b[49m\u001b[43m)\u001b[49m\n",
      "File \u001b[1;32m~\\anaconda3\\lib\\site-packages\\pandas\\io\\parsers\\readers.py:1217\u001b[0m, in \u001b[0;36mTextFileReader._make_engine\u001b[1;34m(self, f, engine)\u001b[0m\n\u001b[0;32m   1213\u001b[0m     mode \u001b[38;5;241m=\u001b[39m \u001b[38;5;124m\"\u001b[39m\u001b[38;5;124mrb\u001b[39m\u001b[38;5;124m\"\u001b[39m\n\u001b[0;32m   1214\u001b[0m \u001b[38;5;66;03m# error: No overload variant of \"get_handle\" matches argument types\u001b[39;00m\n\u001b[0;32m   1215\u001b[0m \u001b[38;5;66;03m# \"Union[str, PathLike[str], ReadCsvBuffer[bytes], ReadCsvBuffer[str]]\"\u001b[39;00m\n\u001b[0;32m   1216\u001b[0m \u001b[38;5;66;03m# , \"str\", \"bool\", \"Any\", \"Any\", \"Any\", \"Any\", \"Any\"\u001b[39;00m\n\u001b[1;32m-> 1217\u001b[0m \u001b[38;5;28mself\u001b[39m\u001b[38;5;241m.\u001b[39mhandles \u001b[38;5;241m=\u001b[39m \u001b[43mget_handle\u001b[49m\u001b[43m(\u001b[49m\u001b[43m  \u001b[49m\u001b[38;5;66;43;03m# type: ignore[call-overload]\u001b[39;49;00m\n\u001b[0;32m   1218\u001b[0m \u001b[43m    \u001b[49m\u001b[43mf\u001b[49m\u001b[43m,\u001b[49m\n\u001b[0;32m   1219\u001b[0m \u001b[43m    \u001b[49m\u001b[43mmode\u001b[49m\u001b[43m,\u001b[49m\n\u001b[0;32m   1220\u001b[0m \u001b[43m    \u001b[49m\u001b[43mencoding\u001b[49m\u001b[38;5;241;43m=\u001b[39;49m\u001b[38;5;28;43mself\u001b[39;49m\u001b[38;5;241;43m.\u001b[39;49m\u001b[43moptions\u001b[49m\u001b[38;5;241;43m.\u001b[39;49m\u001b[43mget\u001b[49m\u001b[43m(\u001b[49m\u001b[38;5;124;43m\"\u001b[39;49m\u001b[38;5;124;43mencoding\u001b[39;49m\u001b[38;5;124;43m\"\u001b[39;49m\u001b[43m,\u001b[49m\u001b[43m \u001b[49m\u001b[38;5;28;43;01mNone\u001b[39;49;00m\u001b[43m)\u001b[49m\u001b[43m,\u001b[49m\n\u001b[0;32m   1221\u001b[0m \u001b[43m    \u001b[49m\u001b[43mcompression\u001b[49m\u001b[38;5;241;43m=\u001b[39;49m\u001b[38;5;28;43mself\u001b[39;49m\u001b[38;5;241;43m.\u001b[39;49m\u001b[43moptions\u001b[49m\u001b[38;5;241;43m.\u001b[39;49m\u001b[43mget\u001b[49m\u001b[43m(\u001b[49m\u001b[38;5;124;43m\"\u001b[39;49m\u001b[38;5;124;43mcompression\u001b[39;49m\u001b[38;5;124;43m\"\u001b[39;49m\u001b[43m,\u001b[49m\u001b[43m \u001b[49m\u001b[38;5;28;43;01mNone\u001b[39;49;00m\u001b[43m)\u001b[49m\u001b[43m,\u001b[49m\n\u001b[0;32m   1222\u001b[0m \u001b[43m    \u001b[49m\u001b[43mmemory_map\u001b[49m\u001b[38;5;241;43m=\u001b[39;49m\u001b[38;5;28;43mself\u001b[39;49m\u001b[38;5;241;43m.\u001b[39;49m\u001b[43moptions\u001b[49m\u001b[38;5;241;43m.\u001b[39;49m\u001b[43mget\u001b[49m\u001b[43m(\u001b[49m\u001b[38;5;124;43m\"\u001b[39;49m\u001b[38;5;124;43mmemory_map\u001b[39;49m\u001b[38;5;124;43m\"\u001b[39;49m\u001b[43m,\u001b[49m\u001b[43m \u001b[49m\u001b[38;5;28;43;01mFalse\u001b[39;49;00m\u001b[43m)\u001b[49m\u001b[43m,\u001b[49m\n\u001b[0;32m   1223\u001b[0m \u001b[43m    \u001b[49m\u001b[43mis_text\u001b[49m\u001b[38;5;241;43m=\u001b[39;49m\u001b[43mis_text\u001b[49m\u001b[43m,\u001b[49m\n\u001b[0;32m   1224\u001b[0m \u001b[43m    \u001b[49m\u001b[43merrors\u001b[49m\u001b[38;5;241;43m=\u001b[39;49m\u001b[38;5;28;43mself\u001b[39;49m\u001b[38;5;241;43m.\u001b[39;49m\u001b[43moptions\u001b[49m\u001b[38;5;241;43m.\u001b[39;49m\u001b[43mget\u001b[49m\u001b[43m(\u001b[49m\u001b[38;5;124;43m\"\u001b[39;49m\u001b[38;5;124;43mencoding_errors\u001b[39;49m\u001b[38;5;124;43m\"\u001b[39;49m\u001b[43m,\u001b[49m\u001b[43m \u001b[49m\u001b[38;5;124;43m\"\u001b[39;49m\u001b[38;5;124;43mstrict\u001b[39;49m\u001b[38;5;124;43m\"\u001b[39;49m\u001b[43m)\u001b[49m\u001b[43m,\u001b[49m\n\u001b[0;32m   1225\u001b[0m \u001b[43m    \u001b[49m\u001b[43mstorage_options\u001b[49m\u001b[38;5;241;43m=\u001b[39;49m\u001b[38;5;28;43mself\u001b[39;49m\u001b[38;5;241;43m.\u001b[39;49m\u001b[43moptions\u001b[49m\u001b[38;5;241;43m.\u001b[39;49m\u001b[43mget\u001b[49m\u001b[43m(\u001b[49m\u001b[38;5;124;43m\"\u001b[39;49m\u001b[38;5;124;43mstorage_options\u001b[39;49m\u001b[38;5;124;43m\"\u001b[39;49m\u001b[43m,\u001b[49m\u001b[43m \u001b[49m\u001b[38;5;28;43;01mNone\u001b[39;49;00m\u001b[43m)\u001b[49m\u001b[43m,\u001b[49m\n\u001b[0;32m   1226\u001b[0m \u001b[43m\u001b[49m\u001b[43m)\u001b[49m\n\u001b[0;32m   1227\u001b[0m \u001b[38;5;28;01massert\u001b[39;00m \u001b[38;5;28mself\u001b[39m\u001b[38;5;241m.\u001b[39mhandles \u001b[38;5;129;01mis\u001b[39;00m \u001b[38;5;129;01mnot\u001b[39;00m \u001b[38;5;28;01mNone\u001b[39;00m\n\u001b[0;32m   1228\u001b[0m f \u001b[38;5;241m=\u001b[39m \u001b[38;5;28mself\u001b[39m\u001b[38;5;241m.\u001b[39mhandles\u001b[38;5;241m.\u001b[39mhandle\n",
      "File \u001b[1;32m~\\anaconda3\\lib\\site-packages\\pandas\\io\\common.py:789\u001b[0m, in \u001b[0;36mget_handle\u001b[1;34m(path_or_buf, mode, encoding, compression, memory_map, is_text, errors, storage_options)\u001b[0m\n\u001b[0;32m    784\u001b[0m \u001b[38;5;28;01melif\u001b[39;00m \u001b[38;5;28misinstance\u001b[39m(handle, \u001b[38;5;28mstr\u001b[39m):\n\u001b[0;32m    785\u001b[0m     \u001b[38;5;66;03m# Check whether the filename is to be opened in binary mode.\u001b[39;00m\n\u001b[0;32m    786\u001b[0m     \u001b[38;5;66;03m# Binary mode does not support 'encoding' and 'newline'.\u001b[39;00m\n\u001b[0;32m    787\u001b[0m     \u001b[38;5;28;01mif\u001b[39;00m ioargs\u001b[38;5;241m.\u001b[39mencoding \u001b[38;5;129;01mand\u001b[39;00m \u001b[38;5;124m\"\u001b[39m\u001b[38;5;124mb\u001b[39m\u001b[38;5;124m\"\u001b[39m \u001b[38;5;129;01mnot\u001b[39;00m \u001b[38;5;129;01min\u001b[39;00m ioargs\u001b[38;5;241m.\u001b[39mmode:\n\u001b[0;32m    788\u001b[0m         \u001b[38;5;66;03m# Encoding\u001b[39;00m\n\u001b[1;32m--> 789\u001b[0m         handle \u001b[38;5;241m=\u001b[39m \u001b[38;5;28;43mopen\u001b[39;49m\u001b[43m(\u001b[49m\n\u001b[0;32m    790\u001b[0m \u001b[43m            \u001b[49m\u001b[43mhandle\u001b[49m\u001b[43m,\u001b[49m\n\u001b[0;32m    791\u001b[0m \u001b[43m            \u001b[49m\u001b[43mioargs\u001b[49m\u001b[38;5;241;43m.\u001b[39;49m\u001b[43mmode\u001b[49m\u001b[43m,\u001b[49m\n\u001b[0;32m    792\u001b[0m \u001b[43m            \u001b[49m\u001b[43mencoding\u001b[49m\u001b[38;5;241;43m=\u001b[39;49m\u001b[43mioargs\u001b[49m\u001b[38;5;241;43m.\u001b[39;49m\u001b[43mencoding\u001b[49m\u001b[43m,\u001b[49m\n\u001b[0;32m    793\u001b[0m \u001b[43m            \u001b[49m\u001b[43merrors\u001b[49m\u001b[38;5;241;43m=\u001b[39;49m\u001b[43merrors\u001b[49m\u001b[43m,\u001b[49m\n\u001b[0;32m    794\u001b[0m \u001b[43m            \u001b[49m\u001b[43mnewline\u001b[49m\u001b[38;5;241;43m=\u001b[39;49m\u001b[38;5;124;43m\"\u001b[39;49m\u001b[38;5;124;43m\"\u001b[39;49m\u001b[43m,\u001b[49m\n\u001b[0;32m    795\u001b[0m \u001b[43m        \u001b[49m\u001b[43m)\u001b[49m\n\u001b[0;32m    796\u001b[0m     \u001b[38;5;28;01melse\u001b[39;00m:\n\u001b[0;32m    797\u001b[0m         \u001b[38;5;66;03m# Binary mode\u001b[39;00m\n\u001b[0;32m    798\u001b[0m         handle \u001b[38;5;241m=\u001b[39m \u001b[38;5;28mopen\u001b[39m(handle, ioargs\u001b[38;5;241m.\u001b[39mmode)\n",
      "\u001b[1;31mFileNotFoundError\u001b[0m: [Errno 2] No such file or directory: 'movies.csv'"
     ]
    }
   ],
   "source": [
    "import pandas as pd\n",
    "import numpy as np\n",
    "\n",
    "# Load data\n",
    "movies = pd.read_csv('movies.csv')\n",
    "ratings = pd.read_csv('ratings.csv')\n",
    "\n",
    "# Merge data\n",
    "movie_ratings = pd.merge(movies, ratings, on='movieId')\n",
    "\n",
    "# Pivot table to get matrix of users and their movie ratings\n",
    "user_movie_ratings = pd.pivot_table(movie_ratings, index='userId', columns='title', values='rating')\n",
    "\n",
    "# Function to get top N recommended movies for target user\n",
    "def get_top_n_recommended_movies(target_user_id, N, k):\n",
    "    # Get target user's movie ratings\n",
    "    target_user_ratings = user_movie_ratings.loc[target_user_id].dropna()\n",
    "    \n",
    "    # Find similar users based on cosine similarity\n",
    "    cosine_similarities = user_movie_ratings.corrwith(target_user_ratings)\n",
    "    similar_users = cosine_similarities.dropna().sort_values(ascending=False)[:k]\n",
    "    \n",
    "    # Get movie ratings of similar users\n",
    "    similar_users_ratings = user_movie_ratings.loc[similar_users.index]\n",
    "    \n",
    "    # Calculate weighted average of movie ratings of similar users\n",
    "    similar_users_weighted_ratings = (similar_users_ratings.T * similar_users).T.sum().div(similar_users.sum())\n",
    "    \n",
    "    # Filter out movies that the target user has already rated\n",
    "    recommended_movies = similar_users_weighted_ratings.drop(target_user_ratings.index).sort_values(ascending=False)[:N]\n",
    "    \n",
    "    # Get movie titles for recommended movies\n",
    "    recommended_movie_titles = pd.DataFrame(recommended_movies).merge(movies, left_index=True, right_on='title')['title']\n",
    "    \n",
    "    return recommended_movie_titles\n",
    "\n",
    "# Example usage\n",
    "target_user_id = int(input('Enter user ID: '))\n",
    "N = int(input('Enter number of recommendations: '))\n",
    "k = int(input('Enter threshold for similar users: '))\n",
    "\n",
    "recommended_movies = get_top_n_recommended_movies(target_user_id, N, k)\n",
    "\n",
    "print('Top', N, 'recommended movies for user', target_user_id, ':')\n",
    "for i, movie_title in enumerate(recommended_movies):\n",
    "    print(i+1, movie_title)\n"
   ]
  },
  {
   "cell_type": "code",
   "execution_count": null,
   "id": "1ec835d7",
   "metadata": {},
   "outputs": [],
   "source": []
  },
  {
   "cell_type": "code",
   "execution_count": null,
   "id": "0f9de057",
   "metadata": {},
   "outputs": [],
   "source": []
  },
  {
   "cell_type": "code",
   "execution_count": null,
   "id": "87276404",
   "metadata": {},
   "outputs": [],
   "source": []
  },
  {
   "cell_type": "code",
   "execution_count": null,
   "id": "3eb9b45a",
   "metadata": {},
   "outputs": [],
   "source": []
  }
 ],
 "metadata": {
  "kernelspec": {
   "display_name": "Python 3 (ipykernel)",
   "language": "python",
   "name": "python3"
  },
  "language_info": {
   "codemirror_mode": {
    "name": "ipython",
    "version": 3
   },
   "file_extension": ".py",
   "mimetype": "text/x-python",
   "name": "python",
   "nbconvert_exporter": "python",
   "pygments_lexer": "ipython3",
   "version": "3.9.12"
  }
 },
 "nbformat": 4,
 "nbformat_minor": 5
}
