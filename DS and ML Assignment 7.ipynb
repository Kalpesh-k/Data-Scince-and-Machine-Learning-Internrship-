{
 "cells": [
  {
   "cell_type": "markdown",
   "id": "da381ac0",
   "metadata": {},
   "source": [
    "#  7Problem Statement1: Build a text classification RNN ( RecurrentNeural Network) model using IMDB dataset.Import theIMDBdataset using tensorflow_datasets and perform the following tasks.Tasks to be performed:\n",
    "•Import the required libraries\n",
    "•Shufflethe data for training and create batches of text and label pairs\n",
    "•Encode the text dataNote: The simplest way to process text for training is using the TextVectorization layer.\n",
    "•Build a sequential model using tf.keras.Sequential function\n",
    "•Compile the model\n",
    "•Train the model using train dataset\n",
    "•Test the data using tset datasetand evaluate the model by passing a sentenceNote:If the prediction is >= 0.0, it is positive else it is negative."
   ]
  },
  {
   "cell_type": "code",
   "execution_count": 11,
   "id": "62134590",
   "metadata": {},
   "outputs": [
    {
     "name": "stdout",
     "output_type": "stream",
     "text": [
      "Requirement already satisfied: tensorflow_datasets in c:\\users\\kalpesh__k__\\anaconda3\\lib\\site-packages (4.8.3)\n",
      "Requirement already satisfied: dm-tree in c:\\users\\kalpesh__k__\\anaconda3\\lib\\site-packages (from tensorflow_datasets) (0.1.8)\n",
      "Requirement already satisfied: numpy in c:\\users\\kalpesh__k__\\anaconda3\\lib\\site-packages (from tensorflow_datasets) (1.21.5)\n",
      "Requirement already satisfied: protobuf>=3.12.2 in c:\\users\\kalpesh__k__\\anaconda3\\lib\\site-packages (from tensorflow_datasets) (3.19.1)\n",
      "Requirement already satisfied: tensorflow-metadata in c:\\users\\kalpesh__k__\\anaconda3\\lib\\site-packages (from tensorflow_datasets) (1.12.0)\n",
      "Requirement already satisfied: wrapt in c:\\users\\kalpesh__k__\\anaconda3\\lib\\site-packages (from tensorflow_datasets) (1.12.1)\n",
      "Requirement already satisfied: termcolor in c:\\users\\kalpesh__k__\\anaconda3\\lib\\site-packages (from tensorflow_datasets) (2.2.0)\n",
      "Requirement already satisfied: click in c:\\users\\kalpesh__k__\\anaconda3\\lib\\site-packages (from tensorflow_datasets) (8.0.4)\n",
      "Requirement already satisfied: promise in c:\\users\\kalpesh__k__\\anaconda3\\lib\\site-packages (from tensorflow_datasets) (2.3)\n",
      "Requirement already satisfied: etils[enp,epath]>=0.9.0 in c:\\users\\kalpesh__k__\\anaconda3\\lib\\site-packages (from tensorflow_datasets) (1.0.0)\n",
      "Requirement already satisfied: absl-py in c:\\users\\kalpesh__k__\\anaconda3\\lib\\site-packages (from tensorflow_datasets) (1.4.0)\n",
      "Requirement already satisfied: requests>=2.19.0 in c:\\users\\kalpesh__k__\\anaconda3\\lib\\site-packages (from tensorflow_datasets) (2.28.1)\n",
      "Requirement already satisfied: psutil in c:\\users\\kalpesh__k__\\anaconda3\\lib\\site-packages (from tensorflow_datasets) (5.8.0)\n",
      "Requirement already satisfied: toml in c:\\users\\kalpesh__k__\\anaconda3\\lib\\site-packages (from tensorflow_datasets) (0.10.2)\n",
      "Requirement already satisfied: tqdm in c:\\users\\kalpesh__k__\\anaconda3\\lib\\site-packages (from tensorflow_datasets) (4.64.0)\n",
      "Requirement already satisfied: zipp in c:\\users\\kalpesh__k__\\anaconda3\\lib\\site-packages (from etils[enp,epath]>=0.9.0->tensorflow_datasets) (3.7.0)\n",
      "Requirement already satisfied: importlib_resources in c:\\users\\kalpesh__k__\\anaconda3\\lib\\site-packages (from etils[enp,epath]>=0.9.0->tensorflow_datasets) (5.12.0)\n",
      "Requirement already satisfied: typing_extensions in c:\\users\\kalpesh__k__\\anaconda3\\lib\\site-packages (from etils[enp,epath]>=0.9.0->tensorflow_datasets) (4.1.1)\n",
      "Requirement already satisfied: idna<4,>=2.5 in c:\\users\\kalpesh__k__\\anaconda3\\lib\\site-packages (from requests>=2.19.0->tensorflow_datasets) (3.3)\n",
      "Requirement already satisfied: charset-normalizer<3,>=2 in c:\\users\\kalpesh__k__\\anaconda3\\lib\\site-packages (from requests>=2.19.0->tensorflow_datasets) (2.0.4)\n",
      "Requirement already satisfied: certifi>=2017.4.17 in c:\\users\\kalpesh__k__\\anaconda3\\lib\\site-packages (from requests>=2.19.0->tensorflow_datasets) (2021.10.8)\n",
      "Requirement already satisfied: urllib3<1.27,>=1.21.1 in c:\\users\\kalpesh__k__\\anaconda3\\lib\\site-packages (from requests>=2.19.0->tensorflow_datasets) (1.26.9)\n",
      "Requirement already satisfied: colorama in c:\\users\\kalpesh__k__\\anaconda3\\lib\\site-packages (from click->tensorflow_datasets) (0.4.4)\n",
      "Requirement already satisfied: six in c:\\users\\kalpesh__k__\\anaconda3\\lib\\site-packages (from promise->tensorflow_datasets) (1.16.0)\n",
      "Requirement already satisfied: googleapis-common-protos<2,>=1.52.0 in c:\\users\\kalpesh__k__\\anaconda3\\lib\\site-packages (from tensorflow-metadata->tensorflow_datasets) (1.53.0)\n"
     ]
    }
   ],
   "source": [
    "!pip install tensorflow_datasets"
   ]
  },
  {
   "cell_type": "code",
   "execution_count": 12,
   "id": "1b2dc1a0",
   "metadata": {},
   "outputs": [
    {
     "ename": "ModuleNotFoundError",
     "evalue": "No module named 'tensorflow'",
     "output_type": "error",
     "traceback": [
      "\u001b[1;31m---------------------------------------------------------------------------\u001b[0m",
      "\u001b[1;31mModuleNotFoundError\u001b[0m                       Traceback (most recent call last)",
      "Input \u001b[1;32mIn [12]\u001b[0m, in \u001b[0;36m<cell line: 2>\u001b[1;34m()\u001b[0m\n\u001b[0;32m      1\u001b[0m \u001b[38;5;66;03m# •Import the required li•Import the required libraries\u001b[39;00m\n\u001b[1;32m----> 2\u001b[0m \u001b[38;5;28;01mimport\u001b[39;00m \u001b[38;5;21;01mtensorflow\u001b[39;00m \u001b[38;5;28;01mas\u001b[39;00m \u001b[38;5;21;01mtf\u001b[39;00m\n\u001b[0;32m      3\u001b[0m \u001b[38;5;28;01mimport\u001b[39;00m \u001b[38;5;21;01mtensorflow_datasets\u001b[39;00m \u001b[38;5;28;01mas\u001b[39;00m \u001b[38;5;21;01mtfds\u001b[39;00m\n",
      "\u001b[1;31mModuleNotFoundError\u001b[0m: No module named 'tensorflow'"
     ]
    }
   ],
   "source": [
    " # •Import the required li•Import the required libraries\n",
    "import tensorflow as tf\n",
    "import tensorflow_datasets as tfds\n"
   ]
  },
  {
   "cell_type": "code",
   "execution_count": null,
   "id": "89fff2af",
   "metadata": {},
   "outputs": [],
   "source": [
    "# Load the IMDB dataset\n",
    "\n",
    "imdb, info = tfds.load(\"imdb_reviews\", with_info=True, as_supervised=True)\n",
    "\n",
    "# Split the dataset into training and testing sets\n",
    "\n",
    "train_data, test_data = imdb['train'], imdb['test']\n"
   ]
  },
  {
   "cell_type": "code",
   "execution_count": null,
   "id": "4b72950d",
   "metadata": {},
   "outputs": [],
   "source": [
    " # •Shufflethe data for training and create batches of text and label pairs\n",
    "train_data = train_data.shuffle(10000)\n",
    "train_data = train_data.batch(64, drop_remainder=True)\n"
   ]
  },
  {
   "cell_type": "code",
   "execution_count": null,
   "id": "52eea1ad",
   "metadata": {},
   "outputs": [],
   "source": [
    " # •Encode the text dataNote: The simplest way to process text for training is using the TextVectorization layer.\n",
    "encoder = tf.keras.layers.experimental.preprocessing.TextVectorization()\n",
    "encoder.adapt(train_data.map(lambda text, label: text))\n",
    "\n"
   ]
  },
  {
   "cell_type": "code",
   "execution_count": 13,
   "id": "7c8c8af0",
   "metadata": {},
   "outputs": [],
   "source": [
    " # •Build a sequential model using tf.keras.Sequential function\n"
   ]
  },
  {
   "cell_type": "code",
   "execution_count": 14,
   "id": "5e9b27c0",
   "metadata": {},
   "outputs": [],
   "source": [
    " # •Compile the model\n"
   ]
  },
  {
   "cell_type": "code",
   "execution_count": null,
   "id": "baef3553",
   "metadata": {},
   "outputs": [],
   "source": [
    " # •Train the model using train dataset\n"
   ]
  },
  {
   "cell_type": "code",
   "execution_count": null,
   "id": "1a3cb603",
   "metadata": {},
   "outputs": [],
   "source": [
    "\n",
    " # •Test the data using tset datasetand evaluate the model by passing a sentenceNote:If the prediction is >= 0.0, it is positive else it is negative."
   ]
  },
  {
   "cell_type": "code",
   "execution_count": null,
   "id": "ed87e2a2",
   "metadata": {},
   "outputs": [],
   "source": []
  },
  {
   "cell_type": "code",
   "execution_count": null,
   "id": "4e222149",
   "metadata": {},
   "outputs": [],
   "source": []
  },
  {
   "cell_type": "code",
   "execution_count": null,
   "id": "42c6b0ee",
   "metadata": {},
   "outputs": [],
   "source": []
  },
  {
   "cell_type": "code",
   "execution_count": null,
   "id": "e601958b",
   "metadata": {},
   "outputs": [],
   "source": []
  },
  {
   "cell_type": "code",
   "execution_count": null,
   "id": "724ba5e2",
   "metadata": {},
   "outputs": [],
   "source": []
  },
  {
   "cell_type": "code",
   "execution_count": null,
   "id": "b6207ee5",
   "metadata": {},
   "outputs": [],
   "source": []
  },
  {
   "cell_type": "code",
   "execution_count": null,
   "id": "e1f87d51",
   "metadata": {},
   "outputs": [],
   "source": []
  },
  {
   "cell_type": "code",
   "execution_count": null,
   "id": "b7521614",
   "metadata": {},
   "outputs": [],
   "source": []
  },
  {
   "cell_type": "code",
   "execution_count": null,
   "id": "7f563d5a",
   "metadata": {},
   "outputs": [],
   "source": []
  },
  {
   "cell_type": "code",
   "execution_count": null,
   "id": "3f662e40",
   "metadata": {},
   "outputs": [],
   "source": []
  },
  {
   "cell_type": "code",
   "execution_count": null,
   "id": "87004933",
   "metadata": {},
   "outputs": [],
   "source": []
  },
  {
   "cell_type": "code",
   "execution_count": null,
   "id": "e6cae430",
   "metadata": {},
   "outputs": [],
   "source": []
  },
  {
   "cell_type": "code",
   "execution_count": null,
   "id": "a4d42ac2",
   "metadata": {},
   "outputs": [],
   "source": []
  },
  {
   "cell_type": "code",
   "execution_count": null,
   "id": "5d7e5dee",
   "metadata": {},
   "outputs": [],
   "source": []
  }
 ],
 "metadata": {
  "kernelspec": {
   "display_name": "Python 3 (ipykernel)",
   "language": "python",
   "name": "python3"
  },
  "language_info": {
   "codemirror_mode": {
    "name": "ipython",
    "version": 3
   },
   "file_extension": ".py",
   "mimetype": "text/x-python",
   "name": "python",
   "nbconvert_exporter": "python",
   "pygments_lexer": "ipython3",
   "version": "3.9.12"
  }
 },
 "nbformat": 4,
 "nbformat_minor": 5
}
