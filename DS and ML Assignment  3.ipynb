{
 "cells": [
  {
   "cell_type": "markdown",
   "id": "6e40bc7a",
   "metadata": {},
   "source": [
    "#  In a survey conducted by a non-banking financial company, a sample of 200 customers yielded that x of them were highly satisfied with the timely disbursal of their loans.\n",
    "Write a Python code to perform the following operations:\n",
    "1.Read an integer input thatspecifies the number of highly satisfied customers\n",
    "2.Calculate an approximate 90% confidence interval for the proportion of the loan customers who are highly satisfied with disbursal time\n",
    "•Find out the Margin of Error using scipy.stats.norm.ppf\n",
    "•Calculate and print the confidence interval values rounded up to five decimal places and separated by a spaceNote:\n",
    "•Margin of Error = Critical Value * Standard Error of Statistic\n",
    "•Confidence Interval = Sample Statistic ± Margin of ErrorExample: Let's say 172 out of 200 customers were highly satisfied.Sample Input:172The confidence interval should be printed as -Sample Output:0.82856 0.89144"
   ]
  },
  {
   "cell_type": "code",
   "execution_count": null,
   "id": "b09cf302",
   "metadata": {},
   "outputs": [],
   "source": []
  },
  {
   "cell_type": "code",
   "execution_count": 9,
   "id": "a870035b",
   "metadata": {},
   "outputs": [],
   "source": [
    "import math\n",
    "import scipy.stats as st\n"
   ]
  },
  {
   "cell_type": "code",
   "execution_count": 10,
   "id": "81ba9dc3",
   "metadata": {},
   "outputs": [
    {
     "name": "stdout",
     "output_type": "stream",
     "text": [
      "172\n"
     ]
    }
   ],
   "source": [
    "# Read an integer input that specifies the number of highly satisfied customers\n",
    "x = int(input())\n"
   ]
  },
  {
   "cell_type": "code",
   "execution_count": 11,
   "id": "31a9eecf",
   "metadata": {},
   "outputs": [],
   "source": [
    "# Sample size\n",
    "n = 200\n",
    "\n",
    "# Proportion of highly satisfied customers in the sample\n",
    "p = x/n\n"
   ]
  },
  {
   "cell_type": "code",
   "execution_count": 12,
   "id": "0d2003f8",
   "metadata": {},
   "outputs": [],
   "source": [
    "# Calculate the standard error of the proportion\n",
    "se = math.sqrt(p*(1-p)/n)\n"
   ]
  },
  {
   "cell_type": "code",
   "execution_count": 13,
   "id": "dd40ca29",
   "metadata": {},
   "outputs": [],
   "source": [
    "# Calculate the z-score for a 90% confidence level\n",
    "z = st.norm.ppf(0.95)\n"
   ]
  },
  {
   "cell_type": "code",
   "execution_count": 14,
   "id": "3c4e2fcd",
   "metadata": {},
   "outputs": [],
   "source": [
    "# Calculate the margin of error\n",
    "me = z * se\n"
   ]
  },
  {
   "cell_type": "code",
   "execution_count": 15,
   "id": "974128e2",
   "metadata": {},
   "outputs": [],
   "source": [
    "# Calculate the confidence interval\n",
    "ci_lower = p - me\n",
    "ci_upper = p + me\n"
   ]
  },
  {
   "cell_type": "code",
   "execution_count": 16,
   "id": "33e3fefd",
   "metadata": {},
   "outputs": [
    {
     "name": "stdout",
     "output_type": "stream",
     "text": [
      "0.81964 0.90036\n"
     ]
    }
   ],
   "source": [
    "# Print the confidence interval values rounded up to five decimal places and separated by a space\n",
    "print('{:.5f} {:.5f}'.format(ci_lower, ci_upper))\n"
   ]
  },
  {
   "cell_type": "code",
   "execution_count": null,
   "id": "982fd633",
   "metadata": {},
   "outputs": [],
   "source": []
  },
  {
   "cell_type": "markdown",
   "id": "175563b2",
   "metadata": {},
   "source": [
    "# Problem Statement 2:\n",
    "A radar unit is used to measure the speeds of cars on a motorway. The speeds are normally distributed with a mean of 75 km/hr and a standard deviation of 15 km/hr.Write a Python code to perform the following operations:1.Find theprobabilitythat a car picked at random is traveling at more thanXkm/hr•Take the speedXas an input•Printthe probability value rounded up tofour decimal places"
   ]
  },
  {
   "cell_type": "code",
   "execution_count": null,
   "id": "05ca03bd",
   "metadata": {},
   "outputs": [],
   "source": [
    "#  mean = 75 km/hr\n",
    "\n",
    "#  starndard deviation = 15 km/hr"
   ]
  },
  {
   "cell_type": "code",
   "execution_count": 6,
   "id": "43c47dff",
   "metadata": {},
   "outputs": [],
   "source": [
    "import scipy.stats as st\n",
    "\n"
   ]
  },
  {
   "cell_type": "code",
   "execution_count": 7,
   "id": "22bb743c",
   "metadata": {},
   "outputs": [
    {
     "name": "stdout",
     "output_type": "stream",
     "text": [
      "100\n"
     ]
    }
   ],
   "source": [
    "# Read the speed input in km/hr\n",
    "X = float(input())\n"
   ]
  },
  {
   "cell_type": "code",
   "execution_count": 8,
   "id": "c7c02b30",
   "metadata": {},
   "outputs": [],
   "source": [
    "# Mean and standard deviation of the speeds\n",
    "mean = 75\n",
    "std = 15\n",
    "\n"
   ]
  },
  {
   "cell_type": "code",
   "execution_count": 9,
   "id": "6d47a499",
   "metadata": {},
   "outputs": [],
   "source": [
    "# Calculate the z-score for the speed X\n",
    "z = (X - mean) / std\n"
   ]
  },
  {
   "cell_type": "code",
   "execution_count": 10,
   "id": "cbbcb1d3",
   "metadata": {},
   "outputs": [],
   "source": [
    "# Calculate the probability that a car is traveling at more than X km/hr\n",
    "p = 1 - st.norm.cdf(z)\n"
   ]
  },
  {
   "cell_type": "code",
   "execution_count": 11,
   "id": "857878b9",
   "metadata": {},
   "outputs": [
    {
     "name": "stdout",
     "output_type": "stream",
     "text": [
      "1.6666666666666667\n",
      "0.047790352272814696\n"
     ]
    }
   ],
   "source": [
    "print(z)\n",
    "print(p)"
   ]
  },
  {
   "cell_type": "markdown",
   "id": "7fc86cff",
   "metadata": {},
   "source": [
    "#  Problem Statement 3:\n",
    "Write a Python program toload the “kerala.csv”data into a DataFrameand perform the following tasks:\n",
    "1.Explore the DataFrame using info()and describe()functions\n",
    "2.June and July are the peak months of rainfall. Consider that if it rains more than 500mm, then chances of flood become more;create a Datarame with columns –“YEAR”, “JUN_GT_500”(Contains a boolean value to showwhether it rained more than500 mm in the month of June), “JUL_GT_500”(Contains a boolean value to showwhether it rained more than500 mm in the month of July),and “FLOODS”(Containsaboolean value to showwhetherit flooded that year)\n",
    "3.Calculate the probability of flood given it rained more than 500 mm in June (P(A|B))\n",
    "4.Calculate the probability of rain more than 500 mm in June,given it flooded that year (P(B|A))\n",
    "5.Probability of flood given it rained more than 500 mm in July6.Probability of rainmore than 500 mm in July given it flooded that year (P(B|A))"
   ]
  },
  {
   "cell_type": "code",
   "execution_count": null,
   "id": "13369b1c",
   "metadata": {},
   "outputs": [],
   "source": []
  },
  {
   "cell_type": "code",
   "execution_count": 15,
   "id": "df766c62",
   "metadata": {},
   "outputs": [],
   "source": [
    "import pandas as pd\n",
    "import numpy as np"
   ]
  },
  {
   "cell_type": "code",
   "execution_count": 16,
   "id": "ac8ac7b4",
   "metadata": {},
   "outputs": [],
   "source": [
    "# Load the data into a DataFrame\n",
    "df = pd.read_csv('C:/Users/Kalpesh__K__/Downloads/assignment_3 dataset_j2f_a63pjpx (1)/kerala.csv')\n"
   ]
  },
  {
   "cell_type": "code",
   "execution_count": 17,
   "id": "354d72e1",
   "metadata": {},
   "outputs": [
    {
     "name": "stdout",
     "output_type": "stream",
     "text": [
      "<class 'pandas.core.frame.DataFrame'>\n",
      "RangeIndex: 118 entries, 0 to 117\n",
      "Data columns (total 16 columns):\n",
      " #   Column            Non-Null Count  Dtype  \n",
      "---  ------            --------------  -----  \n",
      " 0   SUBDIVISION       118 non-null    object \n",
      " 1   YEAR              118 non-null    int64  \n",
      " 2   JAN               118 non-null    float64\n",
      " 3   FEB               118 non-null    float64\n",
      " 4   MAR               118 non-null    float64\n",
      " 5   APR               118 non-null    float64\n",
      " 6   MAY               118 non-null    float64\n",
      " 7   JUN               118 non-null    float64\n",
      " 8   JUL               118 non-null    float64\n",
      " 9   AUG               118 non-null    float64\n",
      " 10  SEP               118 non-null    float64\n",
      " 11  OCT               118 non-null    float64\n",
      " 12  NOV               118 non-null    float64\n",
      " 13  DEC               118 non-null    float64\n",
      " 14   ANNUAL RAINFALL  118 non-null    float64\n",
      " 15  FLOODS            118 non-null    object \n",
      "dtypes: float64(13), int64(1), object(2)\n",
      "memory usage: 14.9+ KB\n",
      "None\n",
      "              YEAR         JAN         FEB         MAR         APR  \\\n",
      "count   118.000000  118.000000  118.000000  118.000000  118.000000   \n",
      "mean   1959.500000   12.218644   15.633898   36.670339  110.330508   \n",
      "std      34.207699   15.473766   16.406290   30.063862   44.633452   \n",
      "min    1901.000000    0.000000    0.000000    0.100000   13.100000   \n",
      "25%    1930.250000    2.175000    4.700000   18.100000   74.350000   \n",
      "50%    1959.500000    5.800000    8.350000   28.400000  110.400000   \n",
      "75%    1988.750000   18.175000   21.400000   49.825000  136.450000   \n",
      "max    2018.000000   83.500000   79.000000  217.200000  238.000000   \n",
      "\n",
      "              MAY          JUN          JUL          AUG         SEP  \\\n",
      "count  118.000000   118.000000   118.000000   118.000000  118.000000   \n",
      "mean   228.644915   651.617797   698.220339   430.369492  246.207627   \n",
      "std    147.548778   186.181363   228.988966   181.980463  121.901131   \n",
      "min     53.400000   196.800000   167.500000   178.600000   41.300000   \n",
      "25%    125.050000   535.550000   533.200000   316.725000  155.425000   \n",
      "50%    184.600000   625.600000   691.650000   386.250000  223.550000   \n",
      "75%    264.875000   786.975000   832.425000   500.100000  334.500000   \n",
      "max    738.800000  1098.200000  1526.500000  1398.900000  526.700000   \n",
      "\n",
      "              OCT         NOV         DEC   ANNUAL RAINFALL  \n",
      "count  118.000000  118.000000  118.000000        118.000000  \n",
      "mean   293.207627  162.311017   40.009322       2925.405085  \n",
      "std     93.705253   83.200485   36.676330        452.169407  \n",
      "min     68.500000   31.500000    0.100000       2068.800000  \n",
      "25%    222.125000   93.025000   10.350000       2613.525000  \n",
      "50%    284.300000  152.450000   31.100000       2934.300000  \n",
      "75%    355.150000  218.325000   54.025000       3170.400000  \n",
      "max    567.900000  365.600000  202.300000       4473.000000  \n"
     ]
    }
   ],
   "source": [
    "# Task 1: Explore the DataFrame using info() and describe() functions\n",
    "print(df.info())\n",
    "print(df.describe())\n"
   ]
  },
  {
   "cell_type": "code",
   "execution_count": 23,
   "id": "6a668a93",
   "metadata": {},
   "outputs": [],
   "source": [
    "# Task 2: Create a DataFrame with columns - \"YEAR\", \"JUN_GT_500\", \"JUL_GT_500\", and \"FLOODS\"\n",
    "df2 = pd.DataFrame({'YEAR': df['YEAR'],\n",
    "                    'JUN_GT_500': df['JUN'] > 500,\n",
    "                    'JUL_GT_500': df['JUL'] > 500,\n",
    "                    'FLOODS': df[['JUN', 'JUL']].max(axis=1) > 500})\n"
   ]
  },
  {
   "cell_type": "code",
   "execution_count": 19,
   "id": "a8ee2a5c",
   "metadata": {},
   "outputs": [
    {
     "name": "stdout",
     "output_type": "stream",
     "text": [
      "P(A|B): 1.0\n"
     ]
    }
   ],
   "source": [
    "# Task 3: Calculate the probability of flood given it rained more than 500 mm in June (P(A|B))\n",
    "p_A_given_B = df2[df2['JUN_GT_500']]['FLOODS'].mean()\n",
    "print('P(A|B):', p_A_given_B)\n"
   ]
  },
  {
   "cell_type": "code",
   "execution_count": 20,
   "id": "0686144d",
   "metadata": {},
   "outputs": [
    {
     "name": "stdout",
     "output_type": "stream",
     "text": [
      "P(B|A): 0.808695652173913\n"
     ]
    }
   ],
   "source": [
    "# Task 4: Calculate the probability of rain more than 500 mm in June, given it flooded that year (P(B|A))\n",
    "p_B_given_A = df2[df2['FLOODS']]['JUN_GT_500'].mean()\n",
    "print('P(B|A):', p_B_given_A)\n"
   ]
  },
  {
   "cell_type": "code",
   "execution_count": 21,
   "id": "8e4358c7",
   "metadata": {},
   "outputs": [
    {
     "name": "stdout",
     "output_type": "stream",
     "text": [
      "P(A|C): 1.0\n"
     ]
    }
   ],
   "source": [
    "# Task 5: Probability of flood given it rained more than 500 mm in July\n",
    "p_A_given_C = df2[df2['JUL_GT_500']]['FLOODS'].mean()\n",
    "print('P(A|C):', p_A_given_C)\n"
   ]
  },
  {
   "cell_type": "code",
   "execution_count": 22,
   "id": "1cd1a61b",
   "metadata": {},
   "outputs": [
    {
     "name": "stdout",
     "output_type": "stream",
     "text": [
      "P(B|C): 0.8347826086956521\n"
     ]
    }
   ],
   "source": [
    "# Task 6: Probability of rain more than 500 mm in July given it flooded that year\n",
    "p_B_given_C = df2[df2['FLOODS']]['JUL_GT_500'].mean()\n",
    "print('P(B|C):', p_B_given_C)\n"
   ]
  },
  {
   "cell_type": "code",
   "execution_count": null,
   "id": "f49fbd96",
   "metadata": {},
   "outputs": [],
   "source": []
  },
  {
   "cell_type": "markdown",
   "id": "70a84b77",
   "metadata": {},
   "source": [
    "# Problem Statement 4:Write a Python program to load the wine dataset using the Sklearn library to a DataFrame and perform the following tasks:\n",
    "1.Convert the datasetinto DataFrameusing pandas.\n",
    "2.Generate the sample size of 50and givea randomstate as 100.\n",
    "3.Calculate Z-critical, Margin of Error,andConfidence Interval for alcohol at 95% significance interval on generated sample data.\n"
   ]
  },
  {
   "cell_type": "code",
   "execution_count": 24,
   "id": "1b6dfb09",
   "metadata": {},
   "outputs": [],
   "source": [
    "import pandas as pd\n",
    "from sklearn.datasets import load_wine\n",
    "from scipy import stats\n"
   ]
  },
  {
   "cell_type": "code",
   "execution_count": 25,
   "id": "2b489a96",
   "metadata": {},
   "outputs": [],
   "source": [
    "# Load the wine dataset\n",
    "wine = load_wine()\n"
   ]
  },
  {
   "cell_type": "code",
   "execution_count": 26,
   "id": "d691dd28",
   "metadata": {},
   "outputs": [],
   "source": [
    "# Convert the dataset to a DataFrame\n",
    "df = pd.DataFrame(wine.data, columns=wine.feature_names)\n"
   ]
  },
  {
   "cell_type": "code",
   "execution_count": 27,
   "id": "7cfecfc2",
   "metadata": {},
   "outputs": [],
   "source": [
    "# Generate a random sample of 50 with a random state of 100\n",
    "sample = df['alcohol'].sample(n=50, random_state=100)\n"
   ]
  },
  {
   "cell_type": "code",
   "execution_count": 28,
   "id": "963d7b8a",
   "metadata": {},
   "outputs": [],
   "source": [
    "# Calculate the Z-critical value for a 95% confidence interval\n",
    "z_critical = stats.norm.ppf(q=0.975)\n"
   ]
  },
  {
   "cell_type": "code",
   "execution_count": 29,
   "id": "643ef212",
   "metadata": {},
   "outputs": [],
   "source": [
    "# Calculate the standard error of the mean\n",
    "std_error = sample.std() / (sample.size ** 0.5)\n"
   ]
  },
  {
   "cell_type": "code",
   "execution_count": 30,
   "id": "341278b5",
   "metadata": {},
   "outputs": [],
   "source": [
    "# Calculate the margin of error\n",
    "margin_error = z_critical * std_error\n"
   ]
  },
  {
   "cell_type": "code",
   "execution_count": 31,
   "id": "11112963",
   "metadata": {},
   "outputs": [],
   "source": [
    "# Calculate the confidence interval\n",
    "conf_int = (sample.mean() - margin_error, sample.mean() + margin_error)\n"
   ]
  },
  {
   "cell_type": "code",
   "execution_count": 32,
   "id": "ead376e7",
   "metadata": {},
   "outputs": [
    {
     "name": "stdout",
     "output_type": "stream",
     "text": [
      "Z-critical value: 1.96\n",
      "Margin of Error: 0.213\n",
      "Confidence Interval: [12.761, 13.187]\n"
     ]
    }
   ],
   "source": [
    "# Print the Z-critical value, Margin of Error, and Confidence Interval\n",
    "print(\"Z-critical value:\", z_critical.round(3))\n",
    "print(\"Margin of Error:\", margin_error.round(3))\n",
    "print(\"Confidence Interval:\", [round(conf_int[0], 3), round(conf_int[1], 3)])\n"
   ]
  },
  {
   "cell_type": "code",
   "execution_count": null,
   "id": "1c086c1c",
   "metadata": {},
   "outputs": [],
   "source": []
  }
 ],
 "metadata": {
  "kernelspec": {
   "display_name": "Python 3 (ipykernel)",
   "language": "python",
   "name": "python3"
  },
  "language_info": {
   "codemirror_mode": {
    "name": "ipython",
    "version": 3
   },
   "file_extension": ".py",
   "mimetype": "text/x-python",
   "name": "python",
   "nbconvert_exporter": "python",
   "pygments_lexer": "ipython3",
   "version": "3.9.12"
  }
 },
 "nbformat": 4,
 "nbformat_minor": 5
}
